{
 "cells": [
  {
   "cell_type": "code",
   "execution_count": 1,
   "metadata": {
    "ExecuteTime": {
     "end_time": "2025-02-21T10:28:10.654529Z",
     "start_time": "2025-02-21T10:28:10.652358Z"
    }
   },
   "outputs": [],
   "source": [
    "import pandas as pd"
   ]
  },
  {
   "cell_type": "code",
   "execution_count": 2,
   "metadata": {
    "ExecuteTime": {
     "end_time": "2025-02-21T10:28:10.658303Z",
     "start_time": "2025-02-21T10:28:10.655489Z"
    }
   },
   "outputs": [],
   "source": [
    "wanted_labels = ['No Finding', 'Atelectasis', 'Effusion', 'Infiltration']\n",
    "\n",
    "def clean_finding_labels(label_string):\n",
    "    # Split the string by '|', filter for wanted labels, and then join them back\n",
    "    labels = label_string.split('|')\n",
    "    labels = sorted(labels)\n",
    "    filtered_labels = [label for label in labels if label in wanted_labels]\n",
    "    return '|'.join(filtered_labels)"
   ]
  },
  {
   "cell_type": "code",
   "execution_count": 4,
   "metadata": {
    "ExecuteTime": {
     "end_time": "2025-02-21T10:31:12.669887Z",
     "start_time": "2025-02-21T10:31:12.233227Z"
    }
   },
   "outputs": [],
   "source": [
    "# Load your CSV file\n",
    "csv_file_path = 'HIN_archive/Data_Entry_2017.csv'\n",
    "df = pd.read_csv(csv_file_path)\n",
    "\n",
    "filtered_df = df[df['Finding Labels'].apply(lambda x: any(label in x for label in wanted_labels))]\n",
    "\n",
    "filtered_df.loc[:, 'Finding Labels'] = filtered_df['Finding Labels'].apply(clean_finding_labels)\n",
    "\n",
    "filtered_df = filtered_df[filtered_df['Finding Labels'].apply(lambda x: x.count('|') == 0)]\n",
    "\n",
    "filtered_df = filtered_df.loc[:, ~filtered_df.columns.str.contains('^Unnamed')] # Fix weird error that new column is generated\n",
    "\n",
    "filtered_csv_path = 'Data_Entry_2017_filtered_2.csv'\n",
    "filtered_df.to_csv(filtered_csv_path, index=False)\n"
   ]
  },
  {
   "cell_type": "code",
   "execution_count": null,
   "metadata": {},
   "outputs": [],
   "source": []
  }
 ],
 "metadata": {
  "kernelspec": {
   "display_name": "medicaldeeplearning-6tfcUi4t-py3.10",
   "language": "python",
   "name": "python3"
  },
  "language_info": {
   "codemirror_mode": {
    "name": "ipython",
    "version": 3
   },
   "file_extension": ".py",
   "mimetype": "text/x-python",
   "name": "python",
   "nbconvert_exporter": "python",
   "pygments_lexer": "ipython3",
   "version": "3.10.14"
  }
 },
 "nbformat": 4,
 "nbformat_minor": 2
}
