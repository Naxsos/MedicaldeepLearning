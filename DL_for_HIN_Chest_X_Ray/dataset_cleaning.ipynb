{
 "cells": [
  {
   "cell_type": "code",
   "execution_count": 1,
   "metadata": {
    "ExecuteTime": {
     "end_time": "2025-04-06T19:06:34.862023Z",
     "start_time": "2025-04-06T19:06:32.044848Z"
    }
   },
   "outputs": [],
   "source": [
    "import pandas as pd\n",
    "from tqdm import tqdm"
   ]
  },
  {
   "cell_type": "code",
   "execution_count": 2,
   "metadata": {
    "ExecuteTime": {
     "end_time": "2025-02-21T10:28:10.658303Z",
     "start_time": "2025-02-21T10:28:10.655489Z"
    }
   },
   "outputs": [],
   "source": [
    "wanted_labels = ['No Finding', 'Atelectasis', 'Effusion', 'Infiltration']\n",
    "\n",
    "def clean_finding_labels(label_string):\n",
    "    # Split the string by '|', filter for wanted labels, and then join them back\n",
    "    labels = label_string.split('|')\n",
    "    labels = sorted(labels)\n",
    "    filtered_labels = [label for label in labels if label in wanted_labels]\n",
    "    return '|'.join(filtered_labels)"
   ]
  },
  {
   "cell_type": "code",
   "execution_count": 4,
   "metadata": {
    "ExecuteTime": {
     "end_time": "2025-02-21T10:31:12.669887Z",
     "start_time": "2025-02-21T10:31:12.233227Z"
    }
   },
   "outputs": [],
   "source": [
    "# Load your CSV file\n",
    "csv_file_path = 'HIN_archive/Data_Entry_2017.csv'\n",
    "df = pd.read_csv(csv_file_path)\n",
    "\n",
    "filtered_df = df[df['Finding Labels'].apply(lambda x: any(label in x for label in wanted_labels))]\n",
    "\n",
    "filtered_df.loc[:, 'Finding Labels'] = filtered_df['Finding Labels'].apply(clean_finding_labels)\n",
    "\n",
    "filtered_df = filtered_df[filtered_df['Finding Labels'].apply(lambda x: x.count('|') == 0)]\n",
    "\n",
    "filtered_df = filtered_df.loc[:, ~filtered_df.columns.str.contains('^Unnamed')] # Fix weird error that new column is generated\n",
    "\n",
    "filtered_csv_path = 'Data_Entry_2017_filtered_2.csv'\n",
    "filtered_df.to_csv(filtered_csv_path, index=False)\n"
   ]
  },
  {
   "cell_type": "code",
   "outputs": [
    {
     "name": "stderr",
     "output_type": "stream",
     "text": [
      "python(30335) MallocStackLogging: can't turn off malloc stack logging because it was not enabled.\n",
      "100%|██████████| 87770/87770 [00:02<00:00, 38228.02it/s]\n"
     ]
    }
   ],
   "source": [
    "csv_file_path = 'Data_Entry_2017_filtered_2.csv'\n",
    "df = pd.read_csv(csv_file_path)\n",
    "\n",
    "atelectasis = []\n",
    "effusion = []\n",
    "infiltration = []\n",
    "noFinding = []\n",
    "\n",
    "for _, row in tqdm(df.iterrows(), total=len(df)):\n",
    "    if row[\"Finding Labels\"] == \"Atelectasis\":\n",
    "        atelectasis.append(row)\n",
    "    if row[\"Finding Labels\"] == \"Effusion\":\n",
    "        effusion.append(row)\n",
    "    if row[\"Finding Labels\"] == \"Infiltration\":\n",
    "        infiltration.append(row)\n",
    "    if row[\"Finding Labels\"] == \"No Finding\":\n",
    "        noFinding.append(row)\n",
    "        \n",
    "atelectasis = pd.DataFrame(atelectasis[:1420])\n",
    "effusion = pd.DataFrame(effusion[:1660])\n",
    "infiltration = pd.DataFrame(infiltration[:3160])\n",
    "noFinding = pd.DataFrame(noFinding[:13760])\n",
    "\n",
    "new_df = pd.concat([atelectasis, effusion, infiltration, noFinding], ignore_index=True)\n",
    "new_df.to_csv('../Comparisons/balancing/original.csv', index=False)\n",
    "\n",
    "# atelectasis_test = pd.DataFrame(atelectasis[-284:])\n",
    "# effusion_test = pd.DataFrame(effusion[-332:])\n",
    "# infiltration_test = pd.DataFrame(infiltration[-632:])\n",
    "# noFinding_test = pd.DataFrame(noFinding[-2752:])\n",
    "# \n",
    "# test_df = pd.concat([atelectasis_test, effusion_test, infiltration_test, noFinding_test], ignore_index=True)\n",
    "# test_df.to_csv('../Comparisons/balancing/testing.csv', index=False)\n",
    "\n"
   ],
   "metadata": {
    "collapsed": false,
    "ExecuteTime": {
     "end_time": "2025-04-06T19:33:29.727022Z",
     "start_time": "2025-04-06T19:33:26.903767Z"
    }
   },
   "execution_count": 2
  },
  {
   "cell_type": "code",
   "execution_count": 7,
   "metadata": {
    "ExecuteTime": {
     "end_time": "2025-04-03T11:12:42.254295Z",
     "start_time": "2025-04-03T11:12:42.240214Z"
    }
   },
   "outputs": [
    {
     "data": {
      "text/plain": "            Image Index Finding Labels  Follow-up #  Patient ID  Patient Age  \\\n20     00000011_006.png    Atelectasis            6          11           75   \n41     00000013_030.png    Atelectasis           30          13           57   \n42     00000013_035.png    Atelectasis           35          13           56   \n62     00000030_000.png    Atelectasis            0          30           74   \n63     00000030_001.png    Atelectasis            1          30           79   \n...                 ...            ...          ...         ...          ...   \n28166  00009349_025.png    Atelectasis           25        9349           70   \n28182  00009352_000.png    Atelectasis            0        9352           58   \n28184  00009355_001.png    Atelectasis            1        9355           65   \n28185  00009356_000.png    Atelectasis            0        9356           20   \n28187  00009356_002.png    Atelectasis            2        9356           20   \n\n      Patient Gender View Position  OriginalImage[Width  Height]  \\\n20                 M            PA                 2992     2991   \n41                 M            AP                 2500     2048   \n42                 M            PA                 2992     2991   \n62                 M            PA                 2992     2991   \n63                 M            PA                 2992     2991   \n...              ...           ...                  ...      ...   \n28166              M            PA                 2500     2048   \n28182              M            AP                 2500     2048   \n28184              M            AP                 2500     2048   \n28185              F            AP                 2500     2048   \n28187              F            AP                 2500     2048   \n\n       OriginalImagePixelSpacing[x     y]  \n20                           0.143  0.143  \n41                           0.168  0.168  \n42                           0.143  0.143  \n62                           0.143  0.143  \n63                           0.143  0.143  \n...                            ...    ...  \n28166                        0.168  0.168  \n28182                        0.168  0.168  \n28184                        0.168  0.168  \n28185                        0.168  0.168  \n28187                        0.168  0.168  \n\n[2000 rows x 11 columns]",
      "text/html": "<div>\n<style scoped>\n    .dataframe tbody tr th:only-of-type {\n        vertical-align: middle;\n    }\n\n    .dataframe tbody tr th {\n        vertical-align: top;\n    }\n\n    .dataframe thead th {\n        text-align: right;\n    }\n</style>\n<table border=\"1\" class=\"dataframe\">\n  <thead>\n    <tr style=\"text-align: right;\">\n      <th></th>\n      <th>Image Index</th>\n      <th>Finding Labels</th>\n      <th>Follow-up #</th>\n      <th>Patient ID</th>\n      <th>Patient Age</th>\n      <th>Patient Gender</th>\n      <th>View Position</th>\n      <th>OriginalImage[Width</th>\n      <th>Height]</th>\n      <th>OriginalImagePixelSpacing[x</th>\n      <th>y]</th>\n    </tr>\n  </thead>\n  <tbody>\n    <tr>\n      <th>20</th>\n      <td>00000011_006.png</td>\n      <td>Atelectasis</td>\n      <td>6</td>\n      <td>11</td>\n      <td>75</td>\n      <td>M</td>\n      <td>PA</td>\n      <td>2992</td>\n      <td>2991</td>\n      <td>0.143</td>\n      <td>0.143</td>\n    </tr>\n    <tr>\n      <th>41</th>\n      <td>00000013_030.png</td>\n      <td>Atelectasis</td>\n      <td>30</td>\n      <td>13</td>\n      <td>57</td>\n      <td>M</td>\n      <td>AP</td>\n      <td>2500</td>\n      <td>2048</td>\n      <td>0.168</td>\n      <td>0.168</td>\n    </tr>\n    <tr>\n      <th>42</th>\n      <td>00000013_035.png</td>\n      <td>Atelectasis</td>\n      <td>35</td>\n      <td>13</td>\n      <td>56</td>\n      <td>M</td>\n      <td>PA</td>\n      <td>2992</td>\n      <td>2991</td>\n      <td>0.143</td>\n      <td>0.143</td>\n    </tr>\n    <tr>\n      <th>62</th>\n      <td>00000030_000.png</td>\n      <td>Atelectasis</td>\n      <td>0</td>\n      <td>30</td>\n      <td>74</td>\n      <td>M</td>\n      <td>PA</td>\n      <td>2992</td>\n      <td>2991</td>\n      <td>0.143</td>\n      <td>0.143</td>\n    </tr>\n    <tr>\n      <th>63</th>\n      <td>00000030_001.png</td>\n      <td>Atelectasis</td>\n      <td>1</td>\n      <td>30</td>\n      <td>79</td>\n      <td>M</td>\n      <td>PA</td>\n      <td>2992</td>\n      <td>2991</td>\n      <td>0.143</td>\n      <td>0.143</td>\n    </tr>\n    <tr>\n      <th>...</th>\n      <td>...</td>\n      <td>...</td>\n      <td>...</td>\n      <td>...</td>\n      <td>...</td>\n      <td>...</td>\n      <td>...</td>\n      <td>...</td>\n      <td>...</td>\n      <td>...</td>\n      <td>...</td>\n    </tr>\n    <tr>\n      <th>28166</th>\n      <td>00009349_025.png</td>\n      <td>Atelectasis</td>\n      <td>25</td>\n      <td>9349</td>\n      <td>70</td>\n      <td>M</td>\n      <td>PA</td>\n      <td>2500</td>\n      <td>2048</td>\n      <td>0.168</td>\n      <td>0.168</td>\n    </tr>\n    <tr>\n      <th>28182</th>\n      <td>00009352_000.png</td>\n      <td>Atelectasis</td>\n      <td>0</td>\n      <td>9352</td>\n      <td>58</td>\n      <td>M</td>\n      <td>AP</td>\n      <td>2500</td>\n      <td>2048</td>\n      <td>0.168</td>\n      <td>0.168</td>\n    </tr>\n    <tr>\n      <th>28184</th>\n      <td>00009355_001.png</td>\n      <td>Atelectasis</td>\n      <td>1</td>\n      <td>9355</td>\n      <td>65</td>\n      <td>M</td>\n      <td>AP</td>\n      <td>2500</td>\n      <td>2048</td>\n      <td>0.168</td>\n      <td>0.168</td>\n    </tr>\n    <tr>\n      <th>28185</th>\n      <td>00009356_000.png</td>\n      <td>Atelectasis</td>\n      <td>0</td>\n      <td>9356</td>\n      <td>20</td>\n      <td>F</td>\n      <td>AP</td>\n      <td>2500</td>\n      <td>2048</td>\n      <td>0.168</td>\n      <td>0.168</td>\n    </tr>\n    <tr>\n      <th>28187</th>\n      <td>00009356_002.png</td>\n      <td>Atelectasis</td>\n      <td>2</td>\n      <td>9356</td>\n      <td>20</td>\n      <td>F</td>\n      <td>AP</td>\n      <td>2500</td>\n      <td>2048</td>\n      <td>0.168</td>\n      <td>0.168</td>\n    </tr>\n  </tbody>\n</table>\n<p>2000 rows × 11 columns</p>\n</div>"
     },
     "execution_count": 7,
     "metadata": {},
     "output_type": "execute_result"
    }
   ],
   "source": [
    "atelectasis\n"
   ]
  },
  {
   "cell_type": "code",
   "outputs": [],
   "source": [],
   "metadata": {
    "collapsed": false
   }
  }
 ],
 "metadata": {
  "kernelspec": {
   "display_name": "medicaldeeplearning-6tfcUi4t-py3.10",
   "language": "python",
   "name": "python3"
  },
  "language_info": {
   "codemirror_mode": {
    "name": "ipython",
    "version": 3
   },
   "file_extension": ".py",
   "mimetype": "text/x-python",
   "name": "python",
   "nbconvert_exporter": "python",
   "pygments_lexer": "ipython3",
   "version": "3.10.14"
  }
 },
 "nbformat": 4,
 "nbformat_minor": 2
}
