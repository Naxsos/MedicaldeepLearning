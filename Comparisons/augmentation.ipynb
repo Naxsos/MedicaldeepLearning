{
 "cells": [
  {
   "cell_type": "markdown",
   "source": [
    "chexnet: horizontal flipping\n",
    "yao: random rotations from -15 to 15 degrees\n",
    "    scaled between 80 and 120%\n",
    "    translation in 4 directions by 25 pixels\n",
    "baltruschat: random rotations by +- 7 degrees\n",
    "    horizontal flipping\n",
    "    aspect ration variation between 3:4 and 4:3\n",
    "    patch sampling between 8 and 100% of the original image\n",
    "    weiss ja nicht: rescaling to 256 / 480 and then center crop\n",
    "gündel: horizontal flipping\n",
    "    cropping 448 out of 512: per corner and middle\n",
    "shen: flipping\n",
    "    adjusting brightness and contrast\n",
    "shamrat: rotate up to 90 degrees\n",
    "    translate\n",
    "    vertical flip"
   ],
   "metadata": {
    "collapsed": false
   },
   "id": "731106dba3efd561"
  }
 ],
 "metadata": {
  "kernelspec": {
   "display_name": "Python 3",
   "language": "python",
   "name": "python3"
  },
  "language_info": {
   "codemirror_mode": {
    "name": "ipython",
    "version": 2
   },
   "file_extension": ".py",
   "mimetype": "text/x-python",
   "name": "python",
   "nbconvert_exporter": "python",
   "pygments_lexer": "ipython2",
   "version": "2.7.6"
  }
 },
 "nbformat": 4,
 "nbformat_minor": 5
}
