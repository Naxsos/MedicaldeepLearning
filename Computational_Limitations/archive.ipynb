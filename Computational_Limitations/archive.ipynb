{
 "cells": [
  {
   "cell_type": "code",
   "execution_count": null,
   "id": "initial_id",
   "metadata": {
    "collapsed": true
   },
   "outputs": [],
   "source": [
    "# Model training while storing images as unsigned int and transforming it for each batch\n",
    "\n",
    "\n",
    "def normalize_image(img, label):\n",
    "    img = tf.cast(img, np.float32) / 255.0\n",
    "    img = tf.reshape(img, [256, 256, 1])\n",
    "    return img, label\n",
    "\n",
    "BATCH_SIZE = 32\n",
    "\n",
    "dataset = tf.data.Dataset.from_tensor_slices((images, labels))\n",
    "dataset = dataset.map(normalize_image)\n",
    "\n",
    "dataset = dataset.shuffle(buffer_size=1000)\n",
    "dataset = dataset.repeat()\n",
    "dataset = dataset.batch(BATCH_SIZE)\n",
    "        \n",
    "model = create_model(256)\n",
    "    \n",
    "model.fit(dataset, epochs=10, steps_per_epoch=len(images) // BATCH_SIZE)\n",
    "    \n",
    "accuracy = model.evaluate(dataset, steps=len(images) // BATCH_SIZE)\n",
    "print(f'Accuracy: {accuracy[1]}')"
   ]
  },
  {
   "cell_type": "code",
   "outputs": [],
   "source": [
    "# Model training that requires preprocessing\n",
    "BATCH_SIZE = 32\n",
    "    \n",
    "model = create_model(256)\n",
    "\n",
    "model.fit(images, labels, epochs=10, steps_per_epoch=len(images) // BATCH_SIZE)\n",
    "\n",
    "accuracy = model.evaluate(images, labels, steps=len(images) // BATCH_SIZE)\n",
    "\n",
    "print(f'Accuracy: {accuracy[1]}')\n"
   ],
   "metadata": {
    "collapsed": false
   },
   "id": "7897a6d8f4a6a580"
  },
  {
   "cell_type": "code",
   "outputs": [],
   "source": [
    "memory = psutil.virtual_memory()\n",
    "# Print memory statistics\n",
    "print(f\"Total Memory: {memory.total / (1024 ** 3):.2f} GB\")\n",
    "print(f\"Available Memory: {memory.available / (1024 ** 3):.2f} GB\")\n",
    "print(f\"Used Memory: {memory.used / (1024 ** 3):.2f} GB\")\n",
    "print(f\"Free Memory: {memory.free / (1024 ** 3):.2f} GB\")\n",
    "print(f\"Memory Usage: {memory.percent}%\")\n",
    "print(memory)\n"
   ],
   "metadata": {
    "collapsed": false
   },
   "id": "5e6704de23af475"
  },
  {
   "cell_type": "code",
   "outputs": [],
   "source": [
    "image = cv2.imread('../DL_for_HIN_Chest_X_Ray/HIN_archive/images/00000001_000.png', cv2.IMREAD_GRAYSCALE)\n",
    "image = cv2.resize(image, (256, 256))\n",
    "cv2.imwrite('rescaled_image_256.png', image)"
   ],
   "metadata": {
    "collapsed": false
   },
   "id": "96003bbd484b5f31"
  },
  {
   "cell_type": "code",
   "outputs": [],
   "source": [
    "size = (1024, 1024)\n",
    "\n",
    "images_test = []\n",
    "image = cv2.imread('../DL_for_HIN_Chest_X_Ray/HIN_archive/images/00000001_000.png', cv2.IMREAD_GRAYSCALE)\n",
    "\n",
    "\n",
    "def get_memory_usage():\n",
    "    process = psutil.Process()\n",
    "    mem_info = process.memory_info()\n",
    "    rss = mem_info.rss / 1e9\n",
    "    swap = psutil.swap_memory().used / 1e9\n",
    "    return rss, swap\n",
    "\n",
    "for i in tqdm(range(8000)):\n",
    "    images_test.append(image)\n",
    "    if i % 1000 == 0:\n",
    "        pass    \n",
    "\n",
    "print(get_memory_usage())\n",
    "\n",
    "images_test = np.array(images_test).reshape(-1, size[0], size[1])\n",
    "print (asizeof.asizeof(images_test))\n",
    "\n",
    "print(get_memory_usage())\n"
   ],
   "metadata": {
    "collapsed": false
   },
   "id": "21560c528af36d9c"
  },
  {
   "cell_type": "code",
   "outputs": [],
   "source": [],
   "metadata": {
    "collapsed": false
   },
   "id": "a266656125b5ce73"
  },
  {
   "cell_type": "code",
   "outputs": [],
   "source": [
    "# Test for memory consumption\n",
    "image_si = 100\n",
    "\n",
    "images, labels = prepare_data(df[:1], image_si, IMAGE_DIR)\n",
    "images2, labels2 = prepare_data(df[:3], image_si, IMAGE_DIR)\n",
    "image = cv2.imread(IMAGE_DIR + '/00000001_000.png', cv2.IMREAD_GRAYSCALE)\n",
    "cv2.imwrite(\"xray_50.png\", cv2.resize(image, (50, 50)))\n",
    "cv2.imwrite(\"xray_400.png\", cv2.resize(image, (400, 400)))\n",
    "cv2.imwrite(\"xray_1024.png\", image)\n",
    "\n",
    "print(asizeof.asizeof(image))\n",
    "print()\n",
    "\n",
    "\n",
    "print(asizeof.asizeof(images))\n",
    "print(images.nbytes)\n",
    "print(asizeof.asizeof(images2))\n",
    "print(\"per image: \" + str(asizeof.asizeof(images2) - asizeof.asizeof(images)))"
   ],
   "metadata": {
    "collapsed": false
   },
   "id": "8d3f2134692c48d2"
  }
 ],
 "metadata": {
  "kernelspec": {
   "display_name": "Python 3",
   "language": "python",
   "name": "python3"
  },
  "language_info": {
   "codemirror_mode": {
    "name": "ipython",
    "version": 2
   },
   "file_extension": ".py",
   "mimetype": "text/x-python",
   "name": "python",
   "nbconvert_exporter": "python",
   "pygments_lexer": "ipython2",
   "version": "2.7.6"
  }
 },
 "nbformat": 4,
 "nbformat_minor": 5
}
