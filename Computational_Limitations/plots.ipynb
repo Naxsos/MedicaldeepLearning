{
 "cells": [
  {
   "cell_type": "markdown",
   "metadata": {},
   "source": [
    "Environment: MacBook Pro: 16GB RAM, 500GB ROM"
   ]
  },
  {
   "cell_type": "markdown",
   "metadata": {},
   "source": [
    "Every Image has 1024 * 1024 pixels = 1 048 576 pixels\n",
    "Each pixel grey scale from 0 to 255 -> 1 Byte\n",
    "Per image: 1.048576 MB -> 1 MB\n",
    "About 110.000 images -> 110GB storage needed\n",
    "Files stored as PNG, so only about 440KB per image, when working in Python and loading the Bitmap 1MB again"
   ]
  },
  {
   "cell_type": "markdown",
   "metadata": {},
   "source": [
    "Unlike many other \\ac{DL} research projects that can use up to \\todo{zahlen und quelle}, this work has to deal with significant computational limitations. We are working on a MacBook Pro with a M1 CPU, 16GB of RAM and 500GB of ROM.\n",
    "\n",
    "\\section{Storage}\n",
    "When downloading"
   ]
  },
  {
   "cell_type": "code",
   "execution_count": null,
   "metadata": {},
   "outputs": [],
   "source": [
    "import numpy as np\n",
    "import matplotlib.pyplot as plt\n",
    "from matplotlib import cm\n",
    "from mpl_toolkits.mplot3d import Axes3D\n",
    "\n",
    "image_sizes = np.linspace(64, 1024, 100)  # From 256px to 2048px (width and height)\n",
    "num_images = np.linspace(10000, 100000, 100)     # From 1 to 100 images\n",
    "X, Y = np.meshgrid(image_sizes, num_images)\n",
    "\n",
    "# Calculate total storage needed in MB\n",
    "# Storage = width * height * bytes_per_pixel * num_images\n",
    "storage_needed = (X * X) * Y / 1e9  # Convert from bytes to GB\n",
    "\n",
    "# Create 3D plot\n",
    "fig = plt.figure(figsize=(4,3.5))\n",
    "ax = fig.add_subplot(111, projection='3d')\n",
    "\n",
    "# Plot the surface\n",
    "surf = ax.plot_surface(X, Y, storage_needed, cmap=cm.bwr, linewidth=0, rstride=1, cstride=1, shade=True, alpha=1)\n",
    "surf.set_facecolor((1, 1, 1, 1))  # Set the alpha to 1 (fully opaque)\n",
    "\n",
    "\n",
    "# Labels and title\n",
    "ax.set_xlabel('Image Size (Pixels)', fontsize=11)\n",
    "ax.set_ylabel('Number of Images', fontsize=11)\n",
    "ax.set_zlabel('Memory Needed (GB)', fontsize=11)\n",
    "ax.grid(False)\n",
    "ax.tick_params(axis='x', labelsize=9)  # X-axis tick labels\n",
    "ax.tick_params(axis='y', labelsize=9)  # Y-axis tick labels\n",
    "ax.tick_params(axis='z', labelsize=9)  # Z-axis tick labels\n",
    "\n",
    "ax.set_facecolor('white')\n",
    "\n",
    "# Adjust layout to avoid clipping\n",
    "plt.tight_layout(pad=0)  # Remove padding\n",
    "plt.subplots_adjust(left=-0.1, right=0.95, top=1, bottom=0.15)  # Adjust plot borders\n",
    "\n",
    "\n",
    "plt.savefig('memory3dplot.pdf', format='pdf', dpi=300, pad_inches=0)  # Adjust dpi for higher resolution (e.g., 300)\n",
    "\n",
    "\n",
    "# Show the plot\n",
    "plt.show()\n",
    "\n"
   ]
  },
  {
   "cell_type": "code",
   "execution_count": null,
   "metadata": {},
   "outputs": [],
   "source": [
    "from pympler import asizeof\n",
    "\n",
    "image_sizes = np.linspace(64, 1024, 100)  # From 256px to 2048px (width and height)\n",
    "num_images = np.linspace(10000, 100000, 100)     # From 1 to 100 images\n",
    "X, Y = np.meshgrid(image_sizes, num_images)\n",
    "\n",
    "# Initialize storage_needed array to store memory required for each combination of X and Y\n",
    "storage_needed = np.zeros_like(X)\n",
    "\n",
    "# Calculate memory needed for each (X, Y) combination\n",
    "for i in range(X.shape[0]):\n",
    "    for j in range(X.shape[1]):\n",
    "        # For each image size X[i, j], calculate the memory needed\n",
    "        single_image = np.random.rand(int(X[i, j]), int(X[i, j])).astype(np.float32)\n",
    "        single_image = single_image.reshape(-1, int(X[i, j]), int(X[i, j]))\n",
    "        storage_array = asizeof.asizeof(single_image)  # Memory for one image in bytes\n",
    "        storage_needed[i, j] = storage_array * Y[i, j] / 1e9 # Convert from bytes to GB\n",
    "\n",
    "# Create 3D plot\n",
    "fig = plt.figure(figsize=(4,3.5))\n",
    "ax = fig.add_subplot(111, projection='3d')\n",
    "\n",
    "# Plot the surface\n",
    "surf = ax.plot_surface(X, Y, storage_needed, cmap=cm.bwr, linewidth=0, rstride=1, cstride=1, shade=True, alpha=1)\n",
    "surf.set_facecolor((1, 1, 1, 1))  # Set the alpha to 1 (fully opaque)\n",
    "\n",
    "\n",
    "# Labels and title\n",
    "ax.set_xlabel('Image Size (Pixels)', fontsize=11)\n",
    "ax.set_ylabel('Number of Images', fontsize=11)\n",
    "ax.set_zlabel('Memory Needed (GB)', fontsize=11)\n",
    "ax.grid(False)\n",
    "ax.tick_params(axis='x', labelsize=9)  # X-axis tick labels\n",
    "ax.tick_params(axis='y', labelsize=9)  # Y-axis tick labels\n",
    "ax.tick_params(axis='z', labelsize=9)  # Z-axis tick labels\n",
    "\n",
    "ax.set_facecolor('white')\n",
    "\n",
    "\n",
    "# Adjust layout to avoid clipping\n",
    "plt.tight_layout(pad=0)  # Remove padding\n",
    "plt.subplots_adjust(left=-0.1, right=0.95, top=1, bottom=0.15)  # Adjust plot borders\n",
    "\n",
    "plt.savefig('memory3dplot_2.pdf', format='pdf', dpi=300, pad_inches=0)  # Adjust dpi for higher resolution (e.g., 300)\n",
    "\n",
    "# Show the plot\n",
    "plt.show()"
   ]
  },
  {
   "cell_type": "code",
   "execution_count": null,
   "metadata": {},
   "outputs": [],
   "source": [
    "plt.figure(figsize=(8, 6))\n",
    "\n",
    "x_values = [50, 100, 150, 200, 250, 300, 350, 400]\n",
    "y_values = {\"test\": [50.0, 51.0, 53.0, 55.0, 56.0, 57.0, 56.0, 53.0],\n",
    "            \"test2\": [55.0, 51.0, 53.0, 55.0, 56.0, 59.0, 56.0, 53.0],\n",
    "            \"test3\": [57.0, 51.0, 55.0, 55.0, 56.0, 57.0, 56.0, 53.0],\n",
    "            \"test4\": [53.0, 51.0, 53.0, 55.0, 52.0, 57.0, 51.0, 53.0]}\n",
    "\n",
    "for label, y_value in y_values.items():\n",
    "    plt.plot(x_values, y_value, label=label)\n",
    "\n",
    "plt.ylabel(\"Area under curve (AUC)\")\n",
    "plt.xlabel(\"Resolution in pixel x pixel\")\n",
    "plt.grid(color='grey', linestyle='-', linewidth=0.25, alpha=0.5)\n",
    "\n",
    "plt.show()"
   ]
  },
  {
   "cell_type": "code",
   "outputs": [],
   "source": [
    "labels = ['Atelectasis', 'Effusion', 'Infiltration', 'No Finding']\n",
    "values = [6259, 7281, 13869, 60361]  # Replace these with the actual values you want\n",
    "\n",
    "# labels = ['No Finding', 'Infiltration', 'Effusion', 'Atelectasis']\n",
    "# value = [60361, 13869, 7281, 6259]\n",
    "\n",
    "def func(pct, allvalues):\n",
    "    absolute = int(pct/100.*sum(allvalues))\n",
    "    return f\"{absolute}\\n({pct:.1f}%)\"\n",
    "\n",
    "fig, ax = plt.subplots()\n",
    "wedges, texts, autotexts = ax.pie(values, labels=labels, autopct=lambda pct: func(pct, values), startangle=90, \n",
    "       textprops={'fontsize': 10, 'color': 'white', 'alpha': 1}, labeldistance=1.1, pctdistance=0.8, counterclock=False)\n",
    "\n",
    "for text in texts:\n",
    "    text.set_fontsize(14)\n",
    "    text.set_color('black')\n",
    "\n",
    "ax.axis('equal')  # Ensures the pie chart is a circle\n",
    "\n",
    "plt.savefig('dataset_pie.pdf', format='pdf', dpi=300, bbox_inches='tight')  # Adjust dpi for higher resolution (e.g., 300)\n",
    "\n",
    "plt.show()"
   ],
   "metadata": {
    "collapsed": false
   },
   "execution_count": null
  },
  {
   "cell_type": "code",
   "outputs": [],
   "source": [],
   "metadata": {
    "collapsed": false
   }
  }
 ],
 "metadata": {
  "kernelspec": {
   "display_name": "medicaldeeplearning-6tfcUi4t-py3.10",
   "language": "python",
   "name": "python3"
  },
  "language_info": {
   "codemirror_mode": {
    "name": "ipython",
    "version": 3
   },
   "file_extension": ".py",
   "mimetype": "text/x-python",
   "name": "python",
   "nbconvert_exporter": "python",
   "pygments_lexer": "ipython3",
   "version": "3.10.14"
  }
 },
 "nbformat": 4,
 "nbformat_minor": 2
}
