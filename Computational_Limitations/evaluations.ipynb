{
 "cells": [
  {
   "cell_type": "code",
   "execution_count": 2,
   "metadata": {
    "ExecuteTime": {
     "end_time": "2025-02-23T13:13:32.567085Z",
     "start_time": "2025-02-23T13:13:20.078316Z"
    }
   },
   "outputs": [],
   "source": [
    "import numpy as np\n",
    "import pandas as pd\n",
    "import cv2\n",
    "import os\n",
    "import pickle\n",
    "import matplotlib.pyplot as plt\n",
    "from sklearn.preprocessing import MultiLabelBinarizer\n",
    "from tqdm import tqdm\n",
    "from tensorflow.keras.models import Sequential\n",
    "from tensorflow.keras.layers import Conv2D, MaxPooling2D, Flatten, Dense, Dropout, Input\n",
    "from tensorflow.keras.metrics import AUC\n",
    "from tensorflow.keras.optimizers import Adam\n",
    "from tensorflow.keras.callbacks import EarlyStopping\n",
    "import tensorflow as tf\n",
    "import psutil\n",
    "from pympler import asizeof\n",
    "import sklearn\n",
    "\n",
    "# Load your CSV file\n",
    "csv_file_path = '../DL_for_Hin_Chest_X_Ray/Data_Entry_2017_filtered_2.csv'\n",
    "df = pd.read_csv(csv_file_path)\n",
    "\n",
    "# Initialize constants\n",
    "IMAGE_DIR = \"../DL_for_Hin_Chest_X_Ray/HIN_archive/images/\"\n",
    "\n",
    "# Initialize the multi-label binarizer\n",
    "mlb = MultiLabelBinarizer()\n",
    "\n",
    "unique_labels = df[\"Finding Labels\"].str.split(\"|\").explode().unique()\n",
    "mlb.fit([unique_labels])\n",
    "labels_for_class = ['Atelectasis', 'Effusion', 'Infiltration', 'No Finding']"
   ]
  },
  {
   "cell_type": "code",
   "execution_count": 3,
   "metadata": {
    "ExecuteTime": {
     "end_time": "2025-02-23T13:13:32.573948Z",
     "start_time": "2025-02-23T13:13:32.568050Z"
    }
   },
   "outputs": [],
   "source": [
    "def preprocess_image(file_path, image_size):\n",
    "    \"\"\"\n",
    "    Loads and preprocesses an image from the given file path.\n",
    "    Resizes to the specified image size and normalizes pixel values.\n",
    "    \"\"\"\n",
    "    image = cv2.imread(file_path, cv2.IMREAD_GRAYSCALE)  # Load image in grayscale\n",
    "    if image is None:\n",
    "        return None\n",
    "    image = cv2.resize(image, (image_size, image_size))\n",
    "    # image = image / 255.0  # Normalize pixel values to [0, 1]\n",
    "    return image\n",
    "\n",
    "\n",
    "def prepare_data(df, image_size, image_dir=IMAGE_DIR):\n",
    "    \"\"\"\n",
    "    Prepares images and labels from the dataset for model training.\n",
    "    - Loads images based on 'Image Index' in the dataframe.\n",
    "    - Converts 'Finding Labels' to one-hot encoded vectors.\n",
    "    - Returns arrays of images and labels.\n",
    "    \"\"\"\n",
    "    images = []\n",
    "    labels = []\n",
    "    \n",
    "    for _, row in tqdm(df.iterrows(), total=len(df)):\n",
    "        # Construct image path\n",
    "        image_path = os.path.join(image_dir, row[\"Image Index\"])\n",
    "        image = preprocess_image(image_path, image_size)\n",
    "        \n",
    "        if image is not None:\n",
    "            images.append(image)\n",
    "            # Convert labels into a list of diseases, then one-hot encode\n",
    "            label = row[\"Finding Labels\"].split(\"|\")\n",
    "            labels.append(label)\n",
    "    \n",
    "    # Convert lists to arrays\n",
    "    images = np.array(images).reshape(-1, image_size, image_size, 1)  # Adding channel dimension for grayscale\n",
    "    labels = mlb.transform(labels)  # Convert labels to multi-label one-hot encoding\n",
    "    \n",
    "    return images, labels\n",
    "\n",
    "\n",
    "def create_model(image_size):\n",
    "    model = Sequential([\n",
    "        Input(shape=(image_size, image_size, 1)),\n",
    "        Conv2D(32, (3, 3), activation='relu'),\n",
    "        Conv2D(64, (3, 3), activation='relu'),\n",
    "        MaxPooling2D((2, 2)),\n",
    "        Dropout(0.25),\n",
    "        Flatten(),\n",
    "        Dense(128, activation='relu'),\n",
    "        Dropout(0.5),\n",
    "        Dense(len(unique_labels), activation='softmax')\n",
    "    ])\n",
    "\n",
    "    model.compile(optimizer=Adam(), loss='categorical_crossentropy', metrics=['accuracy'])\n",
    "\n",
    "    return model\n",
    "\n",
    "def evaluate(model, images_val, labels_val, num_classes):\n",
    "    # Get the model's predictions (probabilities) for the validation set\n",
    "    probabilities = model.predict(images_val)\n",
    "\n",
    "    # Initialize an empty list to store the AUCs\n",
    "    auc_per_class = {}\n",
    "\n",
    "    # Calculate AUC for each class\n",
    "    for class_idx in range(num_classes):\n",
    "        true_labels = labels_val[:, class_idx]  # True labels for this class\n",
    "        pred_probs = probabilities[:, class_idx]  # Predicted probabilities for this class\n",
    "\n",
    "        # Calculate the AUC for this class\n",
    "        auc = sklearn.metrics.roc_auc_score(true_labels, pred_probs)\n",
    "        auc_per_class[labels_for_class[class_idx]] = auc        \n",
    "        \n",
    "    probabilities_transformed = probabilities.argmax(axis=1)\n",
    "    labels_val_transformed = labels_val.argmax(axis=1)\n",
    "\n",
    "    balanced_acc = sklearn.metrics.balanced_accuracy_score(labels_val_transformed, probabilities_transformed)\n",
    "    acc = sklearn.metrics.accuracy_score(labels_val_transformed, probabilities_transformed)\n",
    "\n",
    "    return auc_per_class, balanced_acc, acc\n"
   ]
  },
  {
   "cell_type": "code",
   "execution_count": null,
   "metadata": {},
   "outputs": [],
   "source": [
    "# Test for memory consumption\n",
    "image_si = 100\n",
    "\n",
    "images, labels = prepare_data(df[:1], image_si, IMAGE_DIR)\n",
    "images2, labels2 = prepare_data(df[:3], image_si, IMAGE_DIR)\n",
    "image = cv2.imread(IMAGE_DIR + '/00000001_000.png', cv2.IMREAD_GRAYSCALE)\n",
    "cv2.imwrite(\"xray_50.png\", cv2.resize(image, (50, 50)))\n",
    "cv2.imwrite(\"xray_400.png\", cv2.resize(image, (400, 400)))\n",
    "cv2.imwrite(\"xray_1024.png\", image)\n",
    "\n",
    "print(asizeof.asizeof(image))\n",
    "print()\n",
    "\n",
    "\n",
    "print(asizeof.asizeof(images))\n",
    "print(images.nbytes)\n",
    "print(asizeof.asizeof(images2))\n",
    "print(\"per image: \" + str(asizeof.asizeof(images2) - asizeof.asizeof(images)))\n"
   ]
  },
  {
   "cell_type": "code",
   "outputs": [
    {
     "name": "stderr",
     "output_type": "stream",
     "text": [
      "100%|██████████| 1000/1000 [00:09<00:00, 110.88it/s]\n",
      "100%|██████████| 200/200 [00:01<00:00, 108.71it/s]\n"
     ]
    },
    {
     "name": "stdout",
     "output_type": "stream",
     "text": [
      "Epoch 1/20\n",
      "\u001B[1m50/50\u001B[0m \u001B[32m━━━━━━━━━━━━━━━━━━━━\u001B[0m\u001B[37m\u001B[0m \u001B[1m20s\u001B[0m 363ms/step - accuracy: 0.3720 - loss: 13.4779 - val_accuracy: 0.2604 - val_loss: 1.3890\n",
      "Epoch 2/20\n",
      "\u001B[1m50/50\u001B[0m \u001B[32m━━━━━━━━━━━━━━━━━━━━\u001B[0m\u001B[37m\u001B[0m \u001B[1m18s\u001B[0m 346ms/step - accuracy: 0.4601 - loss: 1.2988 - val_accuracy: 0.2708 - val_loss: 1.3734\n",
      "Epoch 3/20\n",
      "\u001B[1m50/50\u001B[0m \u001B[32m━━━━━━━━━━━━━━━━━━━━\u001B[0m\u001B[37m\u001B[0m \u001B[1m17s\u001B[0m 347ms/step - accuracy: 0.5576 - loss: 1.1962 - val_accuracy: 0.2292 - val_loss: 1.4146\n",
      "Epoch 4/20\n",
      "\u001B[1m50/50\u001B[0m \u001B[32m━━━━━━━━━━━━━━━━━━━━\u001B[0m\u001B[37m\u001B[0m \u001B[1m20s\u001B[0m 403ms/step - accuracy: 0.5520 - loss: 1.1690 - val_accuracy: 0.3802 - val_loss: 1.4521\n",
      "Epoch 5/20\n",
      "\u001B[1m50/50\u001B[0m \u001B[32m━━━━━━━━━━━━━━━━━━━━\u001B[0m\u001B[37m\u001B[0m \u001B[1m17s\u001B[0m 336ms/step - accuracy: 0.7290 - loss: 0.8230 - val_accuracy: 0.4323 - val_loss: 1.6123\n",
      "Epoch 6/20\n",
      "\u001B[1m50/50\u001B[0m \u001B[32m━━━━━━━━━━━━━━━━━━━━\u001B[0m\u001B[37m\u001B[0m \u001B[1m17s\u001B[0m 332ms/step - accuracy: 0.8045 - loss: 0.5330 - val_accuracy: 0.5417 - val_loss: 2.0361\n",
      "Epoch 7/20\n",
      "\u001B[1m50/50\u001B[0m \u001B[32m━━━━━━━━━━━━━━━━━━━━\u001B[0m\u001B[37m\u001B[0m \u001B[1m16s\u001B[0m 330ms/step - accuracy: 0.8509 - loss: 0.4256 - val_accuracy: 0.4688 - val_loss: 1.8310\n",
      "\u001B[1m7/7\u001B[0m \u001B[32m━━━━━━━━━━━━━━━━━━━━\u001B[0m\u001B[37m\u001B[0m \u001B[1m1s\u001B[0m 71ms/step\n",
      "({'Atelectasis': 0.6732336956521738, 'Effusion': 0.3410138248847926, 'Infiltration': 0.6315628815628815, 'No Finding': 0.5642817982456141}, 0.24835526315789475, 0.755)\n"
     ]
    }
   ],
   "source": [
    "IMAGE_SIZE = 256\n",
    "NUMBER_OF_IMAGES = 1000\n",
    "BATCH_SIZE = 16\n",
    "\n",
    "def normalize_image(img, label):\n",
    "    img = tf.cast(img, np.float32) / 255.0\n",
    "    return img, label\n",
    "\n",
    "images, labels = prepare_data(df[:NUMBER_OF_IMAGES], IMAGE_SIZE)\n",
    "images_test, labels_test = prepare_data(df[-(int(NUMBER_OF_IMAGES / 5)):], IMAGE_SIZE)\n",
    "\n",
    "images_train, images_val, labels_train, labels_val = sklearn.model_selection.train_test_split(images, labels, random_state=42, test_size=0.2)\n",
    "    \n",
    "dataset = tf.data.Dataset.from_tensor_slices((images_train, labels_train))\n",
    "dataset = dataset.map(normalize_image)\n",
    "dataset = dataset.shuffle(buffer_size=100)\n",
    "dataset = dataset.batch(BATCH_SIZE, drop_remainder=True)\n",
    "dataset = dataset.repeat()\n",
    "\n",
    "val_dataset = tf.data.Dataset.from_tensor_slices((images_val, labels_val))\n",
    "val_dataset = val_dataset.map(normalize_image)\n",
    "val_dataset = val_dataset.batch(BATCH_SIZE, drop_remainder=False)\n",
    "    \n",
    "model = create_model(IMAGE_SIZE)\n",
    "\n",
    "class_weights = {}\n",
    "num_classes = len(unique_labels)\n",
    "\n",
    "for class_idx in range(num_classes):\n",
    "    class_count = np.sum(labels[:, class_idx])\n",
    "    class_weight = len(labels) / (num_classes * (class_count + 1e-5)) \n",
    "    class_weights[class_idx] = class_weight\n",
    "\n",
    "early_stopping = EarlyStopping(monitor='val_loss', patience=5, restore_best_weights=True)\n",
    "history = model.fit(dataset, epochs=20, batch_size=BATCH_SIZE, steps_per_epoch=len(images_train) // BATCH_SIZE, validation_data=val_dataset, validation_steps=len(images_val)//BATCH_SIZE, callbacks=[early_stopping], class_weight=class_weights, verbose=1)\n",
    "\n",
    "evals = evaluate(model, images_test, labels_test, len(unique_labels))\n",
    "print(evals)"
   ],
   "metadata": {
    "collapsed": false,
    "ExecuteTime": {
     "end_time": "2025-02-23T14:40:51.213093Z",
     "start_time": "2025-02-23T14:38:33.163030Z"
    }
   },
   "execution_count": 21
  },
  {
   "cell_type": "code",
   "outputs": [
    {
     "data": {
      "text/plain": "<Figure size 800x600 with 1 Axes>",
      "image/png": "[encoded data removed]"
     },
     "metadata": {},
     "output_type": "display_data"
    }
   ],
   "source": [
    "plt.figure(figsize=(8, 6))\n",
    "\n",
    "font_size = 16\n",
    "\n",
    "plt.plot(history.history['loss'], label=\"Loss\")\n",
    "plt.plot(history.history['val_loss'], label=\"Validation Loss\")\n",
    "\n",
    "plt.xlabel(\"Epochs\", fontsize=font_size)\n",
    "plt.grid(color='grey', linestyle='-', linewidth=0.25, alpha=0.5)\n",
    "plt.legend(fontsize=font_size, loc=\"upper right\")\n",
    "\n",
    "plt.savefig(\"evals/history_256px_1000samples.pdf\", bbox_inches='tight', pad_inches=0)\n",
    "\n",
    "plt.show()\n"
   ],
   "metadata": {
    "collapsed": false,
    "ExecuteTime": {
     "end_time": "2025-02-23T14:41:52.529103Z",
     "start_time": "2025-02-23T14:41:52.402990Z"
    }
   },
   "execution_count": 22
  },
  {
   "cell_type": "code",
   "outputs": [
    {
     "name": "stderr",
     "output_type": "stream",
     "text": [
      " 87%|████████▋ | 8746/10000 [01:20<00:11, 112.66it/s]libpng warning: iCCP: profile 'ICC Profile': 'GRAY': Gray color space not permitted on RGB PNG\n",
      "100%|██████████| 10000/10000 [01:31<00:00, 109.62it/s]\n",
      "100%|██████████| 2000/2000 [00:18<00:00, 107.82it/s]\n",
      "2025-02-22 15:04:05.285435: I metal_plugin/src/device/metal_device.cc:1154] Metal device set to: Apple M1 Pro\n",
      "2025-02-22 15:04:05.285470: I metal_plugin/src/device/metal_device.cc:296] systemMemory: 16.00 GB\n",
      "2025-02-22 15:04:05.285479: I metal_plugin/src/device/metal_device.cc:313] maxCacheSize: 5.33 GB\n",
      "2025-02-22 15:04:05.285499: I tensorflow/core/common_runtime/pluggable_device/pluggable_device_factory.cc:305] Could not identify NUMA node of platform GPU ID 0, defaulting to 0. Your kernel may not have been built with NUMA support.\n",
      "2025-02-22 15:04:05.285521: I tensorflow/core/common_runtime/pluggable_device/pluggable_device_factory.cc:271] Created TensorFlow device (/job:localhost/replica:0/task:0/device:GPU:0 with 0 MB memory) -> physical PluggableDevice (device: 0, name: METAL, pci bus id: <undefined>)\n"
     ]
    },
    {
     "name": "stdout",
     "output_type": "stream",
     "text": [
      "Epoch 1/20\n"
     ]
    },
    {
     "name": "stderr",
     "output_type": "stream",
     "text": [
      "2025-02-22 15:04:06.217781: I tensorflow/core/grappler/optimizers/custom_graph_optimizer_registry.cc:117] Plugin optimizer for device_type GPU is enabled.\n"
     ]
    },
    {
     "name": "stdout",
     "output_type": "stream",
     "text": [
      "500/500 - 15s - 31ms/step - accuracy: 0.2471 - loss: 1.4222 - val_accuracy: 0.1125 - val_loss: 1.3931\n",
      "Epoch 2/20\n",
      "500/500 - 14s - 28ms/step - accuracy: 0.2041 - loss: 1.3618 - val_accuracy: 0.2145 - val_loss: 1.3518\n",
      "Epoch 3/20\n",
      "500/500 - 14s - 28ms/step - accuracy: 0.2565 - loss: 1.3351 - val_accuracy: 0.3695 - val_loss: 1.2631\n",
      "Epoch 4/20\n",
      "500/500 - 14s - 28ms/step - accuracy: 0.3120 - loss: 1.3103 - val_accuracy: 0.3080 - val_loss: 1.3448\n",
      "Epoch 5/20\n",
      "500/500 - 14s - 28ms/step - accuracy: 0.3512 - loss: 1.2796 - val_accuracy: 0.4145 - val_loss: 1.2198\n",
      "Epoch 6/20\n",
      "500/500 - 14s - 28ms/step - accuracy: 0.3661 - loss: 1.2375 - val_accuracy: 0.4080 - val_loss: 1.2311\n",
      "Epoch 7/20\n",
      "500/500 - 14s - 28ms/step - accuracy: 0.3944 - loss: 1.2063 - val_accuracy: 0.3865 - val_loss: 1.2903\n",
      "Epoch 8/20\n",
      "500/500 - 14s - 28ms/step - accuracy: 0.4089 - loss: 1.1701 - val_accuracy: 0.4810 - val_loss: 1.1957\n",
      "Epoch 9/20\n",
      "500/500 - 14s - 28ms/step - accuracy: 0.4191 - loss: 1.1307 - val_accuracy: 0.4795 - val_loss: 1.2322\n",
      "Epoch 10/20\n",
      "500/500 - 14s - 28ms/step - accuracy: 0.4342 - loss: 1.1035 - val_accuracy: 0.4835 - val_loss: 1.2530\n",
      "Epoch 11/20\n",
      "500/500 - 14s - 28ms/step - accuracy: 0.4381 - loss: 1.1393 - val_accuracy: 0.4995 - val_loss: 1.2357\n",
      "Epoch 12/20\n",
      "500/500 - 14s - 28ms/step - accuracy: 0.4428 - loss: 1.1282 - val_accuracy: 0.4695 - val_loss: 1.2237\n",
      "Epoch 13/20\n",
      "500/500 - 14s - 28ms/step - accuracy: 0.4485 - loss: 1.1132 - val_accuracy: 0.4675 - val_loss: 1.2533\n",
      "\u001B[1m63/63\u001B[0m \u001B[32m━━━━━━━━━━━━━━━━━━━━\u001B[0m\u001B[37m\u001B[0m \u001B[1m0s\u001B[0m 5ms/step\n",
      "\n",
      "({'Atelectasis': 0.5786804393998546, 'Effusion': 0.5491956203067521, 'Infiltration': 0.5060377706859943, 'No Finding': 0.5425587771678554}, 0.288972829493456, 0.6075)\n"
     ]
    },
    {
     "name": "stderr",
     "output_type": "stream",
     "text": [
      " 87%|████████▋ | 8745/10000 [01:16<00:10, 122.83it/s]libpng warning: iCCP: profile 'ICC Profile': 'GRAY': Gray color space not permitted on RGB PNG\n",
      "100%|██████████| 10000/10000 [01:27<00:00, 114.80it/s]\n",
      "100%|██████████| 2000/2000 [00:17<00:00, 117.43it/s]\n"
     ]
    },
    {
     "name": "stdout",
     "output_type": "stream",
     "text": [
      "Epoch 1/20\n",
      "500/500 - 21s - 42ms/step - accuracy: 0.1284 - loss: 1.5342 - val_accuracy: 0.1270 - val_loss: 1.4002\n",
      "Epoch 2/20\n",
      "500/500 - 20s - 40ms/step - accuracy: 0.2274 - loss: 1.3834 - val_accuracy: 0.1235 - val_loss: 1.4123\n",
      "Epoch 3/20\n",
      "500/500 - 20s - 40ms/step - accuracy: 0.2479 - loss: 1.3750 - val_accuracy: 0.1640 - val_loss: 1.4042\n",
      "Epoch 4/20\n",
      "500/500 - 20s - 40ms/step - accuracy: 0.2600 - loss: 1.3431 - val_accuracy: 0.1440 - val_loss: 1.4510\n",
      "Epoch 5/20\n",
      "500/500 - 20s - 40ms/step - accuracy: 0.3067 - loss: 1.3339 - val_accuracy: 0.2405 - val_loss: 1.3918\n",
      "Epoch 6/20\n",
      "500/500 - 20s - 40ms/step - accuracy: 0.3359 - loss: 1.2498 - val_accuracy: 0.4155 - val_loss: 1.2634\n",
      "Epoch 7/20\n",
      "500/500 - 20s - 39ms/step - accuracy: 0.3749 - loss: 1.1911 - val_accuracy: 0.2625 - val_loss: 1.4379\n",
      "Epoch 8/20\n",
      "500/500 - 20s - 40ms/step - accuracy: 0.4021 - loss: 1.1410 - val_accuracy: 0.4300 - val_loss: 1.2853\n",
      "Epoch 9/20\n",
      "500/500 - 20s - 40ms/step - accuracy: 0.4380 - loss: 1.0693 - val_accuracy: 0.4375 - val_loss: 1.3166\n",
      "Epoch 10/20\n",
      "500/500 - 20s - 40ms/step - accuracy: 0.4701 - loss: 1.0029 - val_accuracy: 0.3720 - val_loss: 1.4945\n",
      "Epoch 11/20\n",
      "500/500 - 20s - 40ms/step - accuracy: 0.4981 - loss: 0.9560 - val_accuracy: 0.4665 - val_loss: 1.3984\n",
      "\u001B[1m63/63\u001B[0m \u001B[32m━━━━━━━━━━━━━━━━━━━━\u001B[0m\u001B[37m\u001B[0m \u001B[1m0s\u001B[0m 7ms/step\n",
      "\n",
      "({'Atelectasis': 0.5354514163732678, 'Effusion': 0.5109662783454355, 'Infiltration': 0.480749005772583, 'No Finding': 0.5022614654658325}, 0.25065936353985624, 0.4595)\n"
     ]
    },
    {
     "name": "stderr",
     "output_type": "stream",
     "text": [
      " 88%|████████▊ | 8750/10000 [01:13<00:10, 120.62it/s]libpng warning: iCCP: profile 'ICC Profile': 'GRAY': Gray color space not permitted on RGB PNG\n",
      "100%|██████████| 10000/10000 [01:24<00:00, 118.98it/s]\n",
      "100%|██████████| 2000/2000 [00:17<00:00, 117.28it/s]\n"
     ]
    },
    {
     "name": "stdout",
     "output_type": "stream",
     "text": [
      "Epoch 1/20\n",
      "500/500 - 38s - 76ms/step - accuracy: 0.1887 - loss: 1.5428 - val_accuracy: 0.1450 - val_loss: 1.3945\n",
      "Epoch 2/20\n",
      "500/500 - 37s - 74ms/step - accuracy: 0.2545 - loss: 1.3762 - val_accuracy: 0.1555 - val_loss: 1.4041\n",
      "Epoch 3/20\n",
      "500/500 - 37s - 74ms/step - accuracy: 0.2459 - loss: 1.3592 - val_accuracy: 0.1665 - val_loss: 1.3963\n",
      "Epoch 4/20\n",
      "500/500 - 37s - 74ms/step - accuracy: 0.2911 - loss: 1.2933 - val_accuracy: 0.1605 - val_loss: 1.4426\n",
      "Epoch 5/20\n",
      "500/500 - 37s - 74ms/step - accuracy: 0.3374 - loss: 1.1989 - val_accuracy: 0.3260 - val_loss: 1.3469\n",
      "Epoch 6/20\n",
      "500/500 - 37s - 75ms/step - accuracy: 0.4009 - loss: 1.0722 - val_accuracy: 0.3260 - val_loss: 1.3626\n",
      "Epoch 7/20\n",
      "500/500 - 37s - 74ms/step - accuracy: 0.4678 - loss: 0.9829 - val_accuracy: 0.3045 - val_loss: 1.5290\n",
      "Epoch 8/20\n",
      "500/500 - 38s - 76ms/step - accuracy: 0.5142 - loss: 0.9136 - val_accuracy: 0.3530 - val_loss: 1.5243\n",
      "Epoch 9/20\n",
      "500/500 - 37s - 75ms/step - accuracy: 0.5450 - loss: 0.8385 - val_accuracy: 0.4605 - val_loss: 1.6044\n",
      "Epoch 10/20\n",
      "500/500 - 37s - 75ms/step - accuracy: 0.5899 - loss: 0.7886 - val_accuracy: 0.4590 - val_loss: 1.7843\n",
      "\u001B[1m63/63\u001B[0m \u001B[32m━━━━━━━━━━━━━━━━━━━━\u001B[0m\u001B[37m\u001B[0m \u001B[1m1s\u001B[0m 13ms/step\n",
      "\n",
      "({'Atelectasis': 0.5383525728960348, 'Effusion': 0.49826913481533824, 'Infiltration': 0.4979943486973222, 'No Finding': 0.5216573367778672}, 0.26411884093655, 0.5165)\n"
     ]
    },
    {
     "name": "stderr",
     "output_type": "stream",
     "text": [
      " 87%|████████▋ | 8742/10000 [01:14<00:10, 121.17it/s]libpng warning: iCCP: profile 'ICC Profile': 'GRAY': Gray color space not permitted on RGB PNG\n",
      "100%|██████████| 10000/10000 [01:25<00:00, 117.17it/s]\n",
      "100%|██████████| 2000/2000 [00:17<00:00, 113.87it/s]\n"
     ]
    },
    {
     "name": "stdout",
     "output_type": "stream",
     "text": [
      "Epoch 1/20\n",
      "500/500 - 64s - 127ms/step - accuracy: 0.2150 - loss: 1.8973 - val_accuracy: 0.1325 - val_loss: 1.3853\n",
      "Epoch 2/20\n",
      "500/500 - 62s - 123ms/step - accuracy: 0.2590 - loss: 1.3748 - val_accuracy: 0.1340 - val_loss: 1.3933\n",
      "Epoch 3/20\n",
      "500/500 - 71s - 142ms/step - accuracy: 0.2159 - loss: 1.3811 - val_accuracy: 0.1305 - val_loss: 1.4285\n",
      "Epoch 4/20\n",
      "500/500 - 106s - 211ms/step - accuracy: 0.2641 - loss: 1.3147 - val_accuracy: 0.2200 - val_loss: 1.3818\n",
      "Epoch 5/20\n",
      "500/500 - 59s - 119ms/step - accuracy: 0.3300 - loss: 1.1777 - val_accuracy: 0.2880 - val_loss: 1.3636\n",
      "Epoch 6/20\n",
      "500/500 - 59s - 117ms/step - accuracy: 0.4105 - loss: 1.0569 - val_accuracy: 0.2690 - val_loss: 1.4271\n",
      "Epoch 7/20\n",
      "500/500 - 60s - 119ms/step - accuracy: 0.4710 - loss: 0.9736 - val_accuracy: 0.2785 - val_loss: 1.5002\n",
      "Epoch 8/20\n",
      "500/500 - 59s - 119ms/step - accuracy: 0.5344 - loss: 0.8384 - val_accuracy: 0.3265 - val_loss: 1.6106\n",
      "Epoch 9/20\n",
      "500/500 - 60s - 119ms/step - accuracy: 0.5875 - loss: 0.7971 - val_accuracy: 0.4450 - val_loss: 1.5799\n",
      "Epoch 10/20\n",
      "500/500 - 60s - 120ms/step - accuracy: 0.6079 - loss: 0.7473 - val_accuracy: 0.3395 - val_loss: 1.6533\n",
      "\u001B[1m63/63\u001B[0m \u001B[32m━━━━━━━━━━━━━━━━━━━━\u001B[0m\u001B[37m\u001B[0m \u001B[1m1s\u001B[0m 21ms/step\n",
      "\n",
      "({'Atelectasis': 0.5182414693462369, 'Effusion': 0.502099661884706, 'Infiltration': 0.49827582773844714, 'No Finding': 0.4982703778010883}, 0.256068005547615, 0.575)\n"
     ]
    },
    {
     "name": "stderr",
     "output_type": "stream",
     "text": [
      " 87%|████████▋ | 8738/10000 [01:17<00:10, 120.43it/s]libpng warning: iCCP: profile 'ICC Profile': 'GRAY': Gray color space not permitted on RGB PNG\n",
      "100%|██████████| 10000/10000 [01:28<00:00, 112.78it/s]\n",
      "100%|██████████| 2000/2000 [00:17<00:00, 116.60it/s]\n"
     ]
    },
    {
     "name": "stdout",
     "output_type": "stream",
     "text": [
      "Epoch 1/20\n",
      "500/500 - 117s - 234ms/step - accuracy: 0.2506 - loss: 2.6978 - val_accuracy: 0.0950 - val_loss: 1.4039\n",
      "Epoch 2/20\n",
      "500/500 - 114s - 228ms/step - accuracy: 0.2779 - loss: 1.3667 - val_accuracy: 0.2045 - val_loss: 1.3848\n",
      "Epoch 3/20\n",
      "500/500 - 113s - 226ms/step - accuracy: 0.3178 - loss: 1.3038 - val_accuracy: 0.2150 - val_loss: 1.4170\n",
      "Epoch 4/20\n",
      "500/500 - 113s - 226ms/step - accuracy: 0.3856 - loss: 1.1528 - val_accuracy: 0.3065 - val_loss: 1.3908\n",
      "Epoch 5/20\n",
      "500/500 - 113s - 226ms/step - accuracy: 0.4879 - loss: 0.9789 - val_accuracy: 0.3280 - val_loss: 1.4144\n",
      "Epoch 6/20\n",
      "500/500 - 113s - 225ms/step - accuracy: 0.5445 - loss: 0.8930 - val_accuracy: 0.4175 - val_loss: 1.3486\n",
      "Epoch 7/20\n",
      "500/500 - 113s - 226ms/step - accuracy: 0.5679 - loss: 0.9314 - val_accuracy: 0.3980 - val_loss: 1.4059\n",
      "Epoch 8/20\n",
      "500/500 - 113s - 227ms/step - accuracy: 0.6241 - loss: 0.8010 - val_accuracy: 0.4080 - val_loss: 1.4930\n",
      "Epoch 9/20\n",
      "500/500 - 113s - 226ms/step - accuracy: 0.6605 - loss: 0.7487 - val_accuracy: 0.4050 - val_loss: 1.6046\n",
      "Epoch 10/20\n",
      "500/500 - 113s - 227ms/step - accuracy: 0.7054 - loss: 0.6657 - val_accuracy: 0.4520 - val_loss: 1.6292\n",
      "Epoch 11/20\n",
      "500/500 - 113s - 226ms/step - accuracy: 0.7203 - loss: 0.6252 - val_accuracy: 0.4855 - val_loss: 1.7146\n",
      "\u001B[1m63/63\u001B[0m \u001B[32m━━━━━━━━━━━━━━━━━━━━\u001B[0m\u001B[37m\u001B[0m \u001B[1m2s\u001B[0m 32ms/step\n",
      "\n",
      "({'Atelectasis': 0.5445023083893566, 'Effusion': 0.5012210579816593, 'Infiltration': 0.48790907231386643, 'No Finding': 0.4779805571680591}, 0.25833750785535614, 0.551)\n"
     ]
    },
    {
     "name": "stderr",
     "output_type": "stream",
     "text": [
      " 87%|████████▋ | 8747/10000 [01:14<00:10, 120.18it/s]libpng warning: iCCP: profile 'ICC Profile': 'GRAY': Gray color space not permitted on RGB PNG\n",
      "100%|██████████| 10000/10000 [01:25<00:00, 117.35it/s]\n",
      "100%|██████████| 2000/2000 [00:17<00:00, 112.25it/s]\n"
     ]
    },
    {
     "name": "stdout",
     "output_type": "stream",
     "text": [
      "Epoch 1/20\n",
      "500/500 - 228s - 457ms/step - accuracy: 0.2655 - loss: 1.8116 - val_accuracy: 0.2010 - val_loss: 1.3776\n",
      "Epoch 2/20\n",
      "500/500 - 228s - 456ms/step - accuracy: 0.3274 - loss: 1.3634 - val_accuracy: 0.2195 - val_loss: 1.3784\n",
      "Epoch 3/20\n",
      "500/500 - 225s - 450ms/step - accuracy: 0.3537 - loss: 1.2885 - val_accuracy: 0.2455 - val_loss: 1.3965\n",
      "Epoch 4/20\n",
      "500/500 - 227s - 453ms/step - accuracy: 0.4153 - loss: 1.1143 - val_accuracy: 0.2880 - val_loss: 1.4175\n",
      "Epoch 5/20\n",
      "500/500 - 224s - 448ms/step - accuracy: 0.4920 - loss: 0.9714 - val_accuracy: 0.3695 - val_loss: 1.4094\n",
      "Epoch 6/20\n",
      "500/500 - 224s - 448ms/step - accuracy: 0.5721 - loss: 0.8160 - val_accuracy: 0.4275 - val_loss: 1.4699\n",
      "\u001B[1m63/63\u001B[0m \u001B[32m━━━━━━━━━━━━━━━━━━━━\u001B[0m\u001B[37m\u001B[0m \u001B[1m7s\u001B[0m 110ms/step\n",
      "\n",
      "({'Atelectasis': 0.5523461760249858, 'Effusion': 0.4798076058895903, 'Infiltration': 0.5195587205103188, 'No Finding': 0.49805198258722516}, 0.2641655059347608, 0.538)\n"
     ]
    },
    {
     "name": "stderr",
     "output_type": "stream",
     "text": [
      " 87%|████████▋ | 8739/10000 [01:16<00:10, 120.62it/s]libpng warning: iCCP: profile 'ICC Profile': 'GRAY': Gray color space not permitted on RGB PNG\n",
      "100%|██████████| 10000/10000 [01:26<00:00, 115.17it/s]\n",
      "100%|██████████| 2000/2000 [00:17<00:00, 115.17it/s]\n"
     ]
    },
    {
     "name": "stdout",
     "output_type": "stream",
     "text": [
      "Epoch 1/20\n",
      "500/500 - 313s - 627ms/step - accuracy: 0.1844 - loss: 3.5559 - val_accuracy: 0.1175 - val_loss: 1.4000\n",
      "Epoch 2/20\n",
      "500/500 - 305s - 610ms/step - accuracy: 0.2340 - loss: 1.3816 - val_accuracy: 0.2295 - val_loss: 1.3881\n",
      "Epoch 3/20\n",
      "500/500 - 383s - 766ms/step - accuracy: 0.3079 - loss: 1.3614 - val_accuracy: 0.2410 - val_loss: 1.3942\n",
      "Epoch 4/20\n",
      "500/500 - 426s - 852ms/step - accuracy: 0.3134 - loss: 1.2986 - val_accuracy: 0.3015 - val_loss: 1.3598\n",
      "Epoch 5/20\n",
      "500/500 - 427s - 854ms/step - accuracy: 0.3694 - loss: 1.1298 - val_accuracy: 0.3040 - val_loss: 1.4268\n",
      "Epoch 6/20\n",
      "500/500 - 450s - 900ms/step - accuracy: 0.4827 - loss: 0.9182 - val_accuracy: 0.2845 - val_loss: 1.4935\n",
      "Epoch 7/20\n",
      "500/500 - 466s - 932ms/step - accuracy: 0.5545 - loss: 0.8750 - val_accuracy: 0.3620 - val_loss: 1.4640\n",
      "Epoch 8/20\n",
      "500/500 - 336s - 673ms/step - accuracy: 0.5945 - loss: 0.7516 - val_accuracy: 0.4525 - val_loss: 1.5176\n",
      "Epoch 9/20\n",
      "500/500 - 357s - 713ms/step - accuracy: 0.6685 - loss: 0.6396 - val_accuracy: 0.5075 - val_loss: 1.6214\n",
      "\u001B[1m63/63\u001B[0m \u001B[32m━━━━━━━━━━━━━━━━━━━━\u001B[0m\u001B[37m\u001B[0m \u001B[1m9s\u001B[0m 132ms/step\n",
      "\n",
      "({'Atelectasis': 0.5103062690052614, 'Effusion': 0.48445475422334205, 'Infiltration': 0.4981237747516015, 'No Finding': 0.5096337184104901}, 0.2501737796828119, 0.6655)\n"
     ]
    },
    {
     "name": "stderr",
     "output_type": "stream",
     "text": [
      " 88%|████████▊ | 8750/10000 [01:20<00:10, 114.21it/s]libpng warning: iCCP: profile 'ICC Profile': 'GRAY': Gray color space not permitted on RGB PNG\n",
      "100%|██████████| 10000/10000 [01:31<00:00, 108.91it/s]\n",
      "100%|██████████| 2000/2000 [00:18<00:00, 108.76it/s]\n"
     ]
    },
    {
     "name": "stdout",
     "output_type": "stream",
     "text": [
      "Epoch 1/20\n",
      "500/500 - 525s - 1s/step - accuracy: 0.2549 - loss: 3.7659 - val_accuracy: 0.1400 - val_loss: 1.4026\n",
      "Epoch 2/20\n",
      "500/500 - 440s - 880ms/step - accuracy: 0.2797 - loss: 1.3865 - val_accuracy: 0.1430 - val_loss: 1.4452\n",
      "Epoch 3/20\n",
      "500/500 - 454s - 907ms/step - accuracy: 0.3031 - loss: 1.3327 - val_accuracy: 0.1920 - val_loss: 1.4613\n",
      "Epoch 4/20\n",
      "500/500 - 454s - 908ms/step - accuracy: 0.3871 - loss: 1.1740 - val_accuracy: 0.2435 - val_loss: 1.4951\n",
      "Epoch 5/20\n",
      "500/500 - 466s - 933ms/step - accuracy: 0.4843 - loss: 0.9436 - val_accuracy: 0.3155 - val_loss: 1.4721\n",
      "Epoch 6/20\n",
      "500/500 - 493s - 986ms/step - accuracy: 0.5475 - loss: 0.9969 - val_accuracy: 0.3335 - val_loss: 1.5070\n",
      "\u001B[1m63/63\u001B[0m \u001B[32m━━━━━━━━━━━━━━━━━━━━\u001B[0m\u001B[37m\u001B[0m \u001B[1m10s\u001B[0m 157ms/step\n",
      "\n",
      "({'Atelectasis': 0.5248998026497229, 'Effusion': 0.45560028635979055, 'Infiltration': 0.4888014785342816, 'No Finding': 0.4759776580564637}, 0.2711734688886399, 0.6465)\n",
      "\n",
      "{50: ({'Atelectasis': 0.5786804393998546, 'Effusion': 0.5491956203067521, 'Infiltration': 0.5060377706859943, 'No Finding': 0.5425587771678554}, 0.288972829493456, 0.6075), 100: ({'Atelectasis': 0.5354514163732678, 'Effusion': 0.5109662783454355, 'Infiltration': 0.480749005772583, 'No Finding': 0.5022614654658325}, 0.25065936353985624, 0.4595), 150: ({'Atelectasis': 0.5383525728960348, 'Effusion': 0.49826913481533824, 'Infiltration': 0.4979943486973222, 'No Finding': 0.5216573367778672}, 0.26411884093655, 0.5165), 200: ({'Atelectasis': 0.5182414693462369, 'Effusion': 0.502099661884706, 'Infiltration': 0.49827582773844714, 'No Finding': 0.4982703778010883}, 0.256068005547615, 0.575), 250: ({'Atelectasis': 0.5445023083893566, 'Effusion': 0.5012210579816593, 'Infiltration': 0.48790907231386643, 'No Finding': 0.4779805571680591}, 0.25833750785535614, 0.551), 300: ({'Atelectasis': 0.5523461760249858, 'Effusion': 0.4798076058895903, 'Infiltration': 0.5195587205103188, 'No Finding': 0.49805198258722516}, 0.2641655059347608, 0.538), 350: ({'Atelectasis': 0.5103062690052614, 'Effusion': 0.48445475422334205, 'Infiltration': 0.4981237747516015, 'No Finding': 0.5096337184104901}, 0.2501737796828119, 0.6655), 400: ({'Atelectasis': 0.5248998026497229, 'Effusion': 0.45560028635979055, 'Infiltration': 0.4888014785342816, 'No Finding': 0.4759776580564637}, 0.2711734688886399, 0.6465)}\n"
     ]
    }
   ],
   "source": [
    "BATCH_SIZE = 16\n",
    "NUMBER_OF_IMAGES = 10000\n",
    "evaluations = {}\n",
    "\n",
    "def normalize_image(img, label):\n",
    "    img = tf.cast(img, np.float32) / 255.0\n",
    "    return img, label\n",
    "\n",
    "\n",
    "for ev_image_size in [50, 100, 150, 200, 250, 300, 350, 400]:\n",
    "    \n",
    "    images, labels = prepare_data(df[:NUMBER_OF_IMAGES], ev_image_size)\n",
    "    images_test, labels_test = prepare_data(df[-(int(NUMBER_OF_IMAGES / 5)):], ev_image_size)\n",
    "\n",
    "    images_train, images_val, labels_train, labels_val = sklearn.model_selection.train_test_split(images, labels, random_state=42, test_size=0.2)\n",
    "\n",
    "    dataset = tf.data.Dataset.from_tensor_slices((images_train, labels_train))\n",
    "    dataset = dataset.map(normalize_image)\n",
    "    dataset = dataset.shuffle(buffer_size=100)\n",
    "    dataset = dataset.batch(BATCH_SIZE, drop_remainder=False)\n",
    "    dataset = dataset.repeat()\n",
    "    \n",
    "    val_dataset = tf.data.Dataset.from_tensor_slices((images_val, labels_val))\n",
    "    val_dataset = val_dataset.map(normalize_image)\n",
    "    val_dataset = val_dataset.batch(BATCH_SIZE, drop_remainder=False)\n",
    "        \n",
    "    model = create_model(ev_image_size)\n",
    "    \n",
    "    class_weights = {}\n",
    "    num_classes = len(unique_labels)\n",
    "    \n",
    "    for class_idx in range(num_classes):\n",
    "        class_count = np.sum(labels[:, class_idx])\n",
    "        class_weight = len(labels) / (num_classes * (class_count + 1e-5)) \n",
    "        class_weights[class_idx] = class_weight\n",
    "\n",
    "    early_stopping = EarlyStopping(monitor='val_loss', patience=5, restore_best_weights=True)\n",
    "    model.fit(dataset, epochs=20, batch_size=BATCH_SIZE, steps_per_epoch=len(images_train) // BATCH_SIZE, validation_data=val_dataset, validation_steps=len(images_val)//BATCH_SIZE, callbacks=[early_stopping], class_weight=class_weights, verbose=2)\n",
    "    \n",
    "    evals = evaluate(model, images_test, labels_test, len(unique_labels))\n",
    "    \n",
    "    evaluations[ev_image_size] = evals\n",
    "    print()\n",
    "    print(evals)\n",
    "    print()\n",
    "    \n",
    "print(evaluations)"
   ],
   "metadata": {
    "collapsed": false,
    "ExecuteTime": {
     "end_time": "2025-02-22T17:09:31.522430Z",
     "start_time": "2025-02-22T14:02:15.113713Z"
    }
   },
   "execution_count": 4
  },
  {
   "cell_type": "code",
   "outputs": [
    {
     "data": {
      "text/plain": "<Figure size 800x600 with 1 Axes>",
      "image/png": "[encoded data removed]"
     },
     "metadata": {},
     "output_type": "display_data"
    }
   ],
   "source": [
    "plt.figure(figsize=(8, 6))\n",
    "\n",
    "with open(\"pickles/resolution_10000samples_nolr.pkl\", \"wb\") as file:\n",
    "    pickle.dump(evaluations, file)\n",
    "\n",
    "aucs = [evalu[0] for evalu in evaluations.values()]\n",
    "aucs_at = [evalu[\"Atelectasis\"] for evalu in aucs]\n",
    "aucs_ef = [evalu[\"Effusion\"] for evalu in aucs]\n",
    "aucs_in = [evalu[\"Infiltration\"] for evalu in aucs]\n",
    "aucs_nf = [evalu[\"No Finding\"] for evalu in aucs]\n",
    "baccs = [evalu[1] for evalu in evaluations.values()]\n",
    "accs = [evalu[2] for evalu in evaluations.values()]\n",
    "\n",
    "x_values = [50, 100, 150, 200, 250, 300, 350, 400]\n",
    "\n",
    "font_size = 16\n",
    "\n",
    "plt.plot(x_values, accs, label=\"Accuracy\")\n",
    "plt.plot(x_values, baccs, label=\"Balanced Accuracy\")\n",
    "\n",
    "# plt.plot(x_values, aucs_at, label=\"Atelectasis\")\n",
    "# plt.plot(x_values, aucs_ef, label=\"Effusion\")\n",
    "# plt.plot(x_values, aucs_in, label=\"Infiltration\")\n",
    "# plt.plot(x_values, aucs_nf, label=\"No Finding\")\n",
    "\n",
    "plt.xlabel(\"Resolution in pixels x pixels\", fontsize=font_size)\n",
    "plt.grid(color='grey', linestyle='-', linewidth=0.25, alpha=0.5)\n",
    "plt.legend(fontsize=font_size, loc=\"center right\")\n",
    "\n",
    "plt.savefig(\"evals/resolution_accBacc_10000samples_nolr.pdf\", bbox_inches='tight', pad_inches=0)\n",
    "\n",
    "plt.show()"
   ],
   "metadata": {
    "collapsed": false,
    "ExecuteTime": {
     "end_time": "2025-02-22T17:59:34.612750Z",
     "start_time": "2025-02-22T17:59:34.466980Z"
    }
   },
   "execution_count": 8
  },
  {
   "cell_type": "code",
   "outputs": [
    {
     "name": "stderr",
     "output_type": "stream",
     "text": [
      " 88%|████████▊ | 8750/10000 [02:07<00:13, 92.65it/s] libpng warning: iCCP: profile 'ICC Profile': 'GRAY': Gray color space not permitted on RGB PNG\n",
      "100%|██████████| 10000/10000 [02:21<00:00, 70.63it/s]\n",
      "100%|██████████| 2000/2000 [00:17<00:00, 113.78it/s]"
     ]
    },
    {
     "name": "stdout",
     "output_type": "stream",
     "text": [
      "AUC for class 0: 0.508366792144671\n",
      "AUC for class 1: 0.5067994954613213\n",
      "AUC for class 2: 0.5111949011565078\n",
      "AUC for class 3: 0.49801124565614185\n"
     ]
    },
    {
     "name": "stderr",
     "output_type": "stream",
     "text": [
      "\n"
     ]
    }
   ],
   "source": [
    "# Baseline\n",
    "\n",
    "images, labels = prepare_data(df[:10000], 1)\n",
    "\n",
    "# Calculate class probabilities\n",
    "class_counts = np.sum(labels, axis=0)\n",
    "class_probabilities = class_counts / len(labels)\n",
    "\n",
    "# Prepare the test data\n",
    "images_test, labels_test = prepare_data(df[-2000:], 1)\n",
    "\n",
    "# Generate predictions based on class probabilities\n",
    "predictions = []\n",
    "for _ in range(len(labels_test)):\n",
    "    predicted_class = np.random.choice(len(class_probabilities), p=class_probabilities)\n",
    "    predictions.append(predicted_class)\n",
    "    \n",
    "predictions_proba = np.zeros((len(labels_test), len(class_probabilities)))\n",
    "for i, predicted_class in enumerate(predictions):\n",
    "    predictions_proba[i, predicted_class] = 1\n",
    "    \n",
    "evals = []\n",
    "for class_idx in range(4):\n",
    "    true_labels = labels_test[:, class_idx]  # True labels for this class\n",
    "    pred_probs = predictions_proba[:, class_idx]  # Predicted probabilities for this class\n",
    "\n",
    "    # Calculate the AUC for this class\n",
    "    auc = sklearn.metrics.roc_auc_score(true_labels, pred_probs)\n",
    "    evals.append(auc)\n",
    "    print(f\"AUC for class {class_idx}: {auc}\")\n",
    "    \n",
    "    \n",
    "probabilities_transformed = predictions\n",
    "labels_val_transformed = labels_test.argmax(axis=1)\n",
    "\n",
    "balanced_acc = sklearn.metrics.balanced_accuracy_score(labels_val_transformed, probabilities_transformed)\n",
    "acc = sklearn.metrics.accuracy_score(labels_val_transformed, probabilities_transformed)\n",
    "\n",
    "print(balanced_acc)\n",
    "print(acc)"
   ],
   "metadata": {
    "collapsed": false,
    "ExecuteTime": {
     "end_time": "2025-02-22T13:40:23.309817Z",
     "start_time": "2025-02-22T13:37:44.089172Z"
    }
   },
   "execution_count": 17
  },
  {
   "cell_type": "code",
   "outputs": [
    {
     "name": "stdout",
     "output_type": "stream",
     "text": [
      "0.2437245139110723\n",
      "0.4665\n"
     ]
    }
   ],
   "source": [],
   "metadata": {
    "collapsed": false,
    "ExecuteTime": {
     "end_time": "2025-02-22T13:34:02.746710Z",
     "start_time": "2025-02-22T13:34:02.739253Z"
    }
   },
   "execution_count": 11
  },
  {
   "cell_type": "code",
   "outputs": [],
   "source": [
    "tf.keras.utils.plot_model(create_model(256), show_shapes=False, rankdir=\"LR\")"
   ],
   "metadata": {
    "collapsed": false
   },
   "execution_count": null
  },
  {
   "cell_type": "code",
   "outputs": [],
   "source": [
    "# Train for balanced accuracy\n",
    "class_weights = {}\n",
    "num_classes = len(unique_labels)\n",
    "\n",
    "for class_idx in range(num_classes):\n",
    "    class_count = np.sum(labels[:, class_idx])\n",
    "    class_weight = len(labels) / (num_classes * (class_count + 1e-5)) \n",
    "    class_weights[class_idx] = class_weight\n",
    "\n",
    "\n",
    "model.fit(dataset, epochs=10, batch_size=BATCH_SIZE, steps_per_epoch=len(images) // BATCH_SIZE, class_weight=class_weights, validation_data=(images_val, labels_val))\n",
    "probabilities = model.predict(images_test)\n",
    "predictions = probabilities.argmax(axis=1)\n",
    "labels_test = labels_test.argmax(axis=1)\n",
    "\n",
    "balanced_acc = sklearn.metrics.balanced_accuracy_score(labels_test, predictions)\n",
    "\n",
    "balanced_acc"
   ],
   "metadata": {
    "collapsed": false
   }
  }
 ],
 "metadata": {
  "kernelspec": {
   "display_name": "medicaldeeplearning-6tfcUi4t-py3.10",
   "language": "python",
   "name": "python3"
  },
  "language_info": {
   "codemirror_mode": {
    "name": "ipython",
    "version": 3
   },
   "file_extension": ".py",
   "mimetype": "text/x-python",
   "name": "python",
   "nbconvert_exporter": "python",
   "pygments_lexer": "ipython3",
   "version": "3.10.14"
  }
 },
 "nbformat": 4,
 "nbformat_minor": 2
}
