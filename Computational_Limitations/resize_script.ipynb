{
 "cells": [
  {
   "cell_type": "code",
   "execution_count": 2,
   "id": "initial_id",
   "metadata": {
    "collapsed": true,
    "ExecuteTime": {
     "end_time": "2025-03-10T13:21:03.612502Z",
     "start_time": "2025-03-10T13:21:03.345610Z"
    }
   },
   "outputs": [
    {
     "name": "stderr",
     "output_type": "stream",
     "text": [
      "100%|██████████| 10/10 [00:00<00:00, 79.05it/s]\n"
     ]
    }
   ],
   "source": [
    "import os\n",
    "import pandas as pd\n",
    "import cv2\n",
    "from tqdm import tqdm\n",
    "\n",
    "csv_file_path = \"../DL_for_Hin_Chest_X_Ray/HIN_archive/Data_Entry_2017.csv\"\n",
    "df = pd.read_csv(csv_file_path)\n",
    "IMAGE_DIR = \"../DL_for_Hin_Chest_X_Ray/HIN_archive/images/\"\n",
    "OUTPUT_DIR = \"../DL_for_Hin_Chest_X_Ray/HIN_archive/resized_images/\"\n",
    "\n",
    "df = df[:10] # For testing, comment it out\n",
    "\n",
    "for _, row in tqdm(df.iterrows(), total=len(df)):\n",
    "    file_name = row[\"Image Index\"]\n",
    "    image_path = os.path.join(IMAGE_DIR, file_name)\n",
    "\n",
    "    image = cv2.imread(image_path, cv2.IMREAD_GRAYSCALE)\n",
    "    image = cv2.resize(image, (224, 224))\n",
    "    output_path = os.path.join(OUTPUT_DIR, file_name)\n",
    "    cv2.imwrite(output_path, image)\n",
    "    "
   ]
  },
  {
   "cell_type": "code",
   "outputs": [],
   "source": [],
   "metadata": {
    "collapsed": false
   },
   "id": "a7ba3ceda47be6fd"
  },
  {
   "cell_type": "code",
   "outputs": [],
   "source": [
    "import numpy as np\n",
    "import pandas as pd\n",
    "from tqdm import tqdm\n",
    "import os\n",
    "import cv2\n",
    "\n",
    "csv_file_path = '../DL_for_Hin_Chest_X_Ray/Data_Entry_2017_filtered_2.csv'\n",
    "# csv_file_path = '../DL_for_Hin_Chest_X_Ray/HIN_archive/Data_Entry_2017.csv'\n",
    "df = pd.read_csv(csv_file_path)\n",
    "\n",
    "IMAGE_DIR = \"../DL_for_Hin_Chest_X_Ray/HIN_archive/images/\"\n",
    "ALL_LABELS = sorted(df[\"Finding Labels\"].str.split(\"|\").explode().unique())\n",
    "ALL_LABELS_WITHOUT_NO = [l for l in ALL_LABELS if l != \"No Finding\"]\n",
    "NUMBER_CLASSES = len(ALL_LABELS)\n",
    "\n",
    "def preprocess_image(file_path, image_size):\n",
    "    image = cv2.imread(file_path, cv2.IMREAD_GRAYSCALE)\n",
    "    if image is None:\n",
    "        return None\n",
    "    image = cv2.resize(image, (image_size, image_size))\n",
    "    return image\n",
    "\n",
    "def prepare_data(df, image_size, image_dir=IMAGE_DIR):\n",
    "    images = []\n",
    "    labels = []\n",
    "    \n",
    "    for _, row in tqdm(df.iterrows(), total=len(df)):\n",
    "        image_path = os.path.join(image_dir, row[\"Image Index\"])\n",
    "        image = preprocess_image(image_path, image_size)\n",
    "        \n",
    "        if image is not None:\n",
    "            images.append(image)\n",
    "\n",
    "            current_label = np.zeros(NUMBER_CLASSES, dtype=int)\n",
    "        \n",
    "            if row[\"Finding Labels\"] != \"No Finding\":\n",
    "                indices = [i for i, label in enumerate(ALL_LABELS_WITHOUT_NO) if label in sorted(row[\"Finding Labels\"].split(\"|\"))]\n",
    "                for idx in indices:\n",
    "                    if 0 <= idx < NUMBER_CLASSES:\n",
    "                        current_label[idx] = 1\n",
    "            else:\n",
    "                current_label[NUMBER_CLASSES - 1] = 1\n",
    "            labels.append(current_label)\n",
    "    \n",
    "    images = np.array(images).reshape(-1, image_size, image_size)\n",
    "    images = np.repeat(images[..., np.newaxis], 3, axis=-1) #rgb\n",
    "    \n",
    "    labels = np.array(labels)\n",
    "    \n",
    "    return images, labels"
   ],
   "metadata": {
    "collapsed": false,
    "ExecuteTime": {
     "end_time": "2025-03-24T10:39:17.708387Z",
     "start_time": "2025-03-24T10:39:17.126286Z"
    }
   },
   "id": "2f9c45a107190cad",
   "execution_count": 9
  },
  {
   "cell_type": "code",
   "outputs": [
    {
     "name": "stderr",
     "output_type": "stream",
     "text": [
      " 10%|▉         | 8744/87770 [01:50<18:56, 69.56it/s] libpng warning: iCCP: profile 'ICC Profile': 'GRAY': Gray color space not permitted on RGB PNG\n",
      "100%|██████████| 87770/87770 [19:01<00:00, 76.90it/s] \n"
     ]
    }
   ],
   "source": [
    "import pickle\n",
    "\n",
    "images, labels = prepare_data(df, 224)\n",
    "with open(\"../DL_for_HIN_Chest_X_Ray/all_images.pkl\", \"wb\") as file:\n",
    "    pickle.dump(images, file)\n",
    "with open(\"../DL_for_HIN_Chest_X_Ray/all_labels.pkl\", \"wb\") as file:\n",
    "    pickle.dump(labels, file)"
   ],
   "metadata": {
    "collapsed": false,
    "ExecuteTime": {
     "end_time": "2025-03-24T11:01:17.266716Z",
     "start_time": "2025-03-24T10:39:17.709424Z"
    }
   },
   "id": "ebff4aa7bc9f2531",
   "execution_count": 10
  },
  {
   "cell_type": "code",
   "outputs": [
    {
     "name": "stdout",
     "output_type": "stream",
     "text": [
      "(87770, 224, 224, 3)\n",
      "(87770, 4)\n"
     ]
    }
   ],
   "source": [
    "with open(f\"../DL_for_HIN_Chest_X_Ray/all_images.pkl\", \"rb\") as file:\n",
    "    images_2 = pickle.load(file)\n",
    "with open(f\"../DL_for_HIN_Chest_X_Ray/all_labels.pkl\", \"rb\") as file:\n",
    "    labels_2 = pickle.load(file)\n",
    "    \n",
    "print(images_2.shape)\n",
    "print(labels_2.shape)"
   ],
   "metadata": {
    "collapsed": false,
    "ExecuteTime": {
     "end_time": "2025-03-24T12:01:41.062979Z",
     "start_time": "2025-03-24T12:01:33.480433Z"
    }
   },
   "id": "c7805a68d30f81ad",
   "execution_count": 11
  },
  {
   "cell_type": "code",
   "outputs": [],
   "source": [],
   "metadata": {
    "collapsed": false
   },
   "id": "91196b1abab3203a"
  }
 ],
 "metadata": {
  "kernelspec": {
   "display_name": "Python 3",
   "language": "python",
   "name": "python3"
  },
  "language_info": {
   "codemirror_mode": {
    "name": "ipython",
    "version": 2
   },
   "file_extension": ".py",
   "mimetype": "text/x-python",
   "name": "python",
   "nbconvert_exporter": "python",
   "pygments_lexer": "ipython2",
   "version": "2.7.6"
  }
 },
 "nbformat": 4,
 "nbformat_minor": 5
}
