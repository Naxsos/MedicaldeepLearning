{
 "cells": [
  {
   "cell_type": "code",
   "execution_count": 2,
   "id": "initial_id",
   "metadata": {
    "collapsed": true,
    "ExecuteTime": {
     "end_time": "2025-03-10T13:21:03.612502Z",
     "start_time": "2025-03-10T13:21:03.345610Z"
    }
   },
   "outputs": [
    {
     "name": "stderr",
     "output_type": "stream",
     "text": [
      "100%|██████████| 10/10 [00:00<00:00, 79.05it/s]\n"
     ]
    }
   ],
   "source": [
    "import os\n",
    "import pandas as pd\n",
    "import cv2\n",
    "from tqdm import tqdm\n",
    "\n",
    "csv_file_path = \"../DL_for_Hin_Chest_X_Ray/HIN_archive/Data_Entry_2017.csv\"\n",
    "df = pd.read_csv(csv_file_path)\n",
    "IMAGE_DIR = \"../DL_for_Hin_Chest_X_Ray/HIN_archive/images/\"\n",
    "OUTPUT_DIR = \"../DL_for_Hin_Chest_X_Ray/HIN_archive/resized_images/\"\n",
    "\n",
    "df = df[:10] # For testing, comment it out\n",
    "\n",
    "for _, row in tqdm(df.iterrows(), total=len(df)):\n",
    "    file_name = row[\"Image Index\"]\n",
    "    image_path = os.path.join(IMAGE_DIR, file_name)\n",
    "\n",
    "    image = cv2.imread(image_path, cv2.IMREAD_GRAYSCALE)\n",
    "    image = cv2.resize(image, (224, 224))\n",
    "    output_path = os.path.join(OUTPUT_DIR, file_name)\n",
    "    cv2.imwrite(output_path, image)\n",
    "    "
   ]
  },
  {
   "cell_type": "code",
   "outputs": [],
   "source": [],
   "metadata": {
    "collapsed": false
   },
   "id": "a7ba3ceda47be6fd"
  }
 ],
 "metadata": {
  "kernelspec": {
   "display_name": "Python 3",
   "language": "python",
   "name": "python3"
  },
  "language_info": {
   "codemirror_mode": {
    "name": "ipython",
    "version": 2
   },
   "file_extension": ".py",
   "mimetype": "text/x-python",
   "name": "python",
   "nbconvert_exporter": "python",
   "pygments_lexer": "ipython2",
   "version": "2.7.6"
  }
 },
 "nbformat": 4,
 "nbformat_minor": 5
}
