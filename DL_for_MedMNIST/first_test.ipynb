{
 "cells": [
  {
   "cell_type": "code",
   "id": "initial_id",
   "metadata": {
    "collapsed": true,
    "ExecuteTime": {
     "end_time": "2024-10-24T08:59:02.440382Z",
     "start_time": "2024-10-24T08:58:38.282142Z"
    }
   },
   "source": [
    "import kagglehub\n",
    "\n",
    "# Download latest version\n",
    "path = kagglehub.dataset_download(\"andrewmvd/medical-mnist\")\n",
    "\n",
    "print(\"Path to dataset files:\", path)"
   ],
   "outputs": [
    {
     "name": "stderr",
     "output_type": "stream",
     "text": [
      "/Users/I569354/Desktop/Praxisarbeiten/Studienarbeit_Sammlung/MedicaldeepLearning/.venv/lib/python3.9/site-packages/urllib3/__init__.py:35: NotOpenSSLWarning: urllib3 v2 only supports OpenSSL 1.1.1+, currently the 'ssl' module is compiled with 'LibreSSL 2.8.3'. See: https://github.com/urllib3/urllib3/issues/3020\n",
      "  warnings.warn(\n",
      "/Users/I569354/Desktop/Praxisarbeiten/Studienarbeit_Sammlung/MedicaldeepLearning/.venv/lib/python3.9/site-packages/tqdm/auto.py:21: TqdmWarning: IProgress not found. Please update jupyter and ipywidgets. See https://ipywidgets.readthedocs.io/en/stable/user_install.html\n",
      "  from .autonotebook import tqdm as notebook_tqdm\n"
     ]
    },
    {
     "name": "stdout",
     "output_type": "stream",
     "text": [
      "Downloading from https://www.kaggle.com/api/v1/datasets/download/andrewmvd/medical-mnist?dataset_version_number=1...\n"
     ]
    },
    {
     "name": "stderr",
     "output_type": "stream",
     "text": [
      "100%|██████████| 84.8M/84.8M [00:07<00:00, 11.9MB/s]"
     ]
    },
    {
     "name": "stdout",
     "output_type": "stream",
     "text": [
      "Extracting files...\n"
     ]
    },
    {
     "name": "stderr",
     "output_type": "stream",
     "text": [
      "\n"
     ]
    },
    {
     "name": "stdout",
     "output_type": "stream",
     "text": [
      "Path to dataset files: /Users/I569354/.cache/kagglehub/datasets/andrewmvd/medical-mnist/versions/1\n"
     ]
    }
   ],
   "execution_count": 1
  },
  {
   "metadata": {
    "ExecuteTime": {
     "end_time": "2024-10-24T09:17:23.598690Z",
     "start_time": "2024-10-24T09:17:23.596233Z"
    }
   },
   "cell_type": "code",
   "source": [
    "import numpy as np\n",
    "import matplotlib.pyplot as plt\n",
    "import medmnist\n",
    "from medmnist import INFO, Evaluator"
   ],
   "id": "ba90a68a53b7d8d5",
   "outputs": [],
   "execution_count": 6
  },
  {
   "metadata": {
    "ExecuteTime": {
     "end_time": "2024-10-24T09:17:24.455497Z",
     "start_time": "2024-10-24T09:17:24.450314Z"
    }
   },
   "cell_type": "code",
   "source": [
    "def download_dataset(data_flag):\n",
    "  print(f\"Dataset source information : MedMNIST v{medmnist.__version__} @ {medmnist.HOMEPAGE}\")\n",
    "\n",
    "  download = True\n",
    "  \n",
    "  info = INFO[data_flag]\n",
    "\n",
    "  DataClass = getattr(medmnist, info['python_class'])\n",
    "\n",
    "  print('\\nBreastMNIST')\n",
    "  print(info['description'])\n",
    "\n",
    "  # Downloading dataset\n",
    "  train_dataset = DataClass(split='train', download=download)\n",
    "  val_dataset = DataClass(split='val', download=download)\n",
    "  test_dataset = DataClass(split='test', download=download)\n",
    "\n",
    "  print('\\nTraining Dataset:')\n",
    "  print(train_dataset)\n",
    "  # print(train_dataset.imgs.shape)\n",
    "  if train_dataset.imgs.ndim == 3:\n",
    "    print('Adding channel to images...')\n",
    "    train_dataset.imgs = np.expand_dims(train_dataset.imgs, axis=-1)\n",
    "\n",
    "  print('\\nValidation Dataset:')\n",
    "  print(val_dataset)\n",
    "  # print(val_dataset.imgs.shape)\n",
    "  if val_dataset.imgs.ndim == 3:\n",
    "    print('Adding channel to images...')\n",
    "    val_dataset.imgs = np.expand_dims(val_dataset.imgs, axis=-1)\n",
    "\n",
    "  print('\\nTesting Dataset:')\n",
    "  print(test_dataset)\n",
    "  # print(test_dataset.imgs.shape)\n",
    "  if test_dataset.imgs.ndim == 3:\n",
    "    print('Adding channel to images...')\n",
    "    test_dataset.imgs = np.expand_dims(test_dataset.imgs, axis=-1)\n",
    "\n",
    "  print('\\nShapes of images:')\n",
    "  print('Training: ', train_dataset.imgs.shape)\n",
    "  print('Validation: ', val_dataset.imgs.shape)\n",
    "  print('Testing: ', test_dataset.imgs.shape)\n",
    "\n",
    "  return train_dataset, val_dataset, test_dataset"
   ],
   "id": "5358147412e84cb4",
   "outputs": [],
   "execution_count": 7
  },
  {
   "metadata": {
    "ExecuteTime": {
     "end_time": "2024-10-24T09:27:39.833837Z",
     "start_time": "2024-10-24T09:27:39.792038Z"
    }
   },
   "cell_type": "code",
   "source": "train_dataset, val_dataset, test_dataset = download_dataset('breastmnist')\n",
   "id": "fce830fcd5c5a5dd",
   "outputs": [
    {
     "name": "stdout",
     "output_type": "stream",
     "text": [
      "Dataset source information : MedMNIST v3.0.2 @ https://github.com/MedMNIST/MedMNIST/\n",
      "\n",
      "BreastMNIST\n",
      "The BreastMNIST is based on a dataset of 780 breast ultrasound images. It is categorized into 3 classes: normal, benign, and malignant. As we use low-resolution images, we simplify the task into binary classification by combining normal and benign as positive and classifying them against malignant as negative. We split the source dataset with a ratio of 7:1:2 into training, validation and test set. The source images of 1×500×500 are resized into 1×28×28.\n",
      "Using downloaded and verified file: /Users/I569354/.medmnist/breastmnist.npz\n",
      "Using downloaded and verified file: /Users/I569354/.medmnist/breastmnist.npz\n",
      "Using downloaded and verified file: /Users/I569354/.medmnist/breastmnist.npz\n",
      "\n",
      "Training Dataset:\n",
      "Dataset BreastMNIST of size 28 (breastmnist)\n",
      "    Number of datapoints: 546\n",
      "    Root location: /Users/I569354/.medmnist\n",
      "    Split: train\n",
      "    Task: binary-class\n",
      "    Number of channels: 1\n",
      "    Meaning of labels: {'0': 'malignant', '1': 'normal, benign'}\n",
      "    Number of samples: {'train': 546, 'val': 78, 'test': 156}\n",
      "    Description: The BreastMNIST is based on a dataset of 780 breast ultrasound images. It is categorized into 3 classes: normal, benign, and malignant. As we use low-resolution images, we simplify the task into binary classification by combining normal and benign as positive and classifying them against malignant as negative. We split the source dataset with a ratio of 7:1:2 into training, validation and test set. The source images of 1×500×500 are resized into 1×28×28.\n",
      "    License: CC BY 4.0\n",
      "Adding channel to images...\n",
      "\n",
      "Validation Dataset:\n",
      "Dataset BreastMNIST of size 28 (breastmnist)\n",
      "    Number of datapoints: 78\n",
      "    Root location: /Users/I569354/.medmnist\n",
      "    Split: val\n",
      "    Task: binary-class\n",
      "    Number of channels: 1\n",
      "    Meaning of labels: {'0': 'malignant', '1': 'normal, benign'}\n",
      "    Number of samples: {'train': 546, 'val': 78, 'test': 156}\n",
      "    Description: The BreastMNIST is based on a dataset of 780 breast ultrasound images. It is categorized into 3 classes: normal, benign, and malignant. As we use low-resolution images, we simplify the task into binary classification by combining normal and benign as positive and classifying them against malignant as negative. We split the source dataset with a ratio of 7:1:2 into training, validation and test set. The source images of 1×500×500 are resized into 1×28×28.\n",
      "    License: CC BY 4.0\n",
      "Adding channel to images...\n",
      "\n",
      "Testing Dataset:\n",
      "Dataset BreastMNIST of size 28 (breastmnist)\n",
      "    Number of datapoints: 156\n",
      "    Root location: /Users/I569354/.medmnist\n",
      "    Split: test\n",
      "    Task: binary-class\n",
      "    Number of channels: 1\n",
      "    Meaning of labels: {'0': 'malignant', '1': 'normal, benign'}\n",
      "    Number of samples: {'train': 546, 'val': 78, 'test': 156}\n",
      "    Description: The BreastMNIST is based on a dataset of 780 breast ultrasound images. It is categorized into 3 classes: normal, benign, and malignant. As we use low-resolution images, we simplify the task into binary classification by combining normal and benign as positive and classifying them against malignant as negative. We split the source dataset with a ratio of 7:1:2 into training, validation and test set. The source images of 1×500×500 are resized into 1×28×28.\n",
      "    License: CC BY 4.0\n",
      "Adding channel to images...\n",
      "\n",
      "Shapes of images:\n",
      "Training:  (546, 28, 28, 1)\n",
      "Validation:  (78, 28, 28, 1)\n",
      "Testing:  (156, 28, 28, 1)\n"
     ]
    }
   ],
   "execution_count": 13
  },
  {
   "metadata": {
    "ExecuteTime": {
     "end_time": "2024-10-24T09:33:03.155102Z",
     "start_time": "2024-10-24T09:33:03.149921Z"
    }
   },
   "cell_type": "code",
   "source": [
    "class_labels = ['Malignant',\n",
    "                'Normal/Benign']\n",
    "# Check missing images in the dataset\n",
    "if len(train_dataset.imgs) != 546:\n",
    "  print(\"WARNING: Missing images in training dataset.\")\n",
    "  print(f\"Found {len(train_dataset.imgs)}, should be 546.\")\n",
    "else:\n",
    "  print(\"SUCCESS: No missing images in training dataset.\")\n",
    "\n",
    "if len(val_dataset.imgs) != 78:\n",
    "  print(\"WARNING: Missing images in validation dataset.\")\n",
    "  print(f\"Found {len(val_dataset.imgs)}, should be 78.\")\n",
    "else:\n",
    "  print(\"SUCCESS: No missing images in validation dataset.\")\n",
    "\n",
    "if len(test_dataset.imgs) != 156:\n",
    "  print(\"WARNING: Missing images in testing dataset.\")\n",
    "  print(f\"Found {len(train_dataset.imgs)}, should be 156.\")\n",
    "else:\n",
    "  print(\"SUCCESS: No missing images in test dataset.\")"
   ],
   "id": "42de8fc5c638abb1",
   "outputs": [
    {
     "name": "stdout",
     "output_type": "stream",
     "text": [
      "SUCCESS: No missing images in training dataset.\n",
      "SUCCESS: No missing images in validation dataset.\n",
      "SUCCESS: No missing images in test dataset.\n"
     ]
    }
   ],
   "execution_count": 18
  },
  {
   "metadata": {
    "ExecuteTime": {
     "end_time": "2024-10-24T09:34:08.534911Z",
     "start_time": "2024-10-24T09:34:08.529227Z"
    }
   },
   "cell_type": "code",
   "source": [
    "# Normalising images in the dataset\n",
    "# Pixel values lie between 0-255, \n",
    "# division by 255 will scale the values between 0 and 1\n",
    "train_dataset.imgs = train_dataset.imgs/255.0 \n",
    "val_dataset.imgs = val_dataset.imgs/255.0\n",
    "test_dataset.imgs = test_dataset.imgs/255.0"
   ],
   "id": "6b6841d9b330863",
   "outputs": [],
   "execution_count": 19
  },
  {
   "metadata": {
    "ExecuteTime": {
     "end_time": "2024-10-24T09:36:04.085010Z",
     "start_time": "2024-10-24T09:35:37.205382Z"
    }
   },
   "cell_type": "code",
   "source": [
    "import tensorflow as tf\n",
    "from tensorflow import keras\n",
    "from tensorflow.keras import Sequential\n",
    "from tensorflow.keras.layers import Dense,Flatten\n",
    "\n",
    "model = Sequential()\n",
    "model.add(Flatten(input_shape=(28,28)))\n",
    "model.add(Dense(128, activation='relu'))\n",
    "model.add(Dense(32,activation='relu'))\n",
    "model.add(Dense(11,activation='softmax'))\n",
    "model.summary()"
   ],
   "id": "115c1946b6cfde08",
   "outputs": [
    {
     "name": "stderr",
     "output_type": "stream",
     "text": [
      "/Users/I569354/Desktop/Praxisarbeiten/Studienarbeit_Sammlung/MedicaldeepLearning/.venv/lib/python3.9/site-packages/keras/src/layers/reshaping/flatten.py:37: UserWarning: Do not pass an `input_shape`/`input_dim` argument to a layer. When using Sequential models, prefer using an `Input(shape)` object as the first layer in the model instead.\n",
      "  super().__init__(**kwargs)\n"
     ]
    },
    {
     "data": {
      "text/plain": [
       "\u001B[1mModel: \"sequential\"\u001B[0m\n"
      ],
      "text/html": [
       "<pre style=\"white-space:pre;overflow-x:auto;line-height:normal;font-family:Menlo,'DejaVu Sans Mono',consolas,'Courier New',monospace\"><span style=\"font-weight: bold\">Model: \"sequential\"</span>\n",
       "</pre>\n"
      ]
     },
     "metadata": {},
     "output_type": "display_data"
    },
    {
     "data": {
      "text/plain": [
       "┏━━━━━━━━━━━━━━━━━━━━━━━━━━━━━━━━━┳━━━━━━━━━━━━━━━━━━━━━━━━┳━━━━━━━━━━━━━━━┓\n",
       "┃\u001B[1m \u001B[0m\u001B[1mLayer (type)                   \u001B[0m\u001B[1m \u001B[0m┃\u001B[1m \u001B[0m\u001B[1mOutput Shape          \u001B[0m\u001B[1m \u001B[0m┃\u001B[1m \u001B[0m\u001B[1m      Param #\u001B[0m\u001B[1m \u001B[0m┃\n",
       "┡━━━━━━━━━━━━━━━━━━━━━━━━━━━━━━━━━╇━━━━━━━━━━━━━━━━━━━━━━━━╇━━━━━━━━━━━━━━━┩\n",
       "│ flatten (\u001B[38;5;33mFlatten\u001B[0m)               │ (\u001B[38;5;45mNone\u001B[0m, \u001B[38;5;34m784\u001B[0m)            │             \u001B[38;5;34m0\u001B[0m │\n",
       "├─────────────────────────────────┼────────────────────────┼───────────────┤\n",
       "│ dense (\u001B[38;5;33mDense\u001B[0m)                   │ (\u001B[38;5;45mNone\u001B[0m, \u001B[38;5;34m128\u001B[0m)            │       \u001B[38;5;34m100,480\u001B[0m │\n",
       "├─────────────────────────────────┼────────────────────────┼───────────────┤\n",
       "│ dense_1 (\u001B[38;5;33mDense\u001B[0m)                 │ (\u001B[38;5;45mNone\u001B[0m, \u001B[38;5;34m32\u001B[0m)             │         \u001B[38;5;34m4,128\u001B[0m │\n",
       "├─────────────────────────────────┼────────────────────────┼───────────────┤\n",
       "│ dense_2 (\u001B[38;5;33mDense\u001B[0m)                 │ (\u001B[38;5;45mNone\u001B[0m, \u001B[38;5;34m11\u001B[0m)             │           \u001B[38;5;34m363\u001B[0m │\n",
       "└─────────────────────────────────┴────────────────────────┴───────────────┘\n"
      ],
      "text/html": [
       "<pre style=\"white-space:pre;overflow-x:auto;line-height:normal;font-family:Menlo,'DejaVu Sans Mono',consolas,'Courier New',monospace\">┏━━━━━━━━━━━━━━━━━━━━━━━━━━━━━━━━━┳━━━━━━━━━━━━━━━━━━━━━━━━┳━━━━━━━━━━━━━━━┓\n",
       "┃<span style=\"font-weight: bold\"> Layer (type)                    </span>┃<span style=\"font-weight: bold\"> Output Shape           </span>┃<span style=\"font-weight: bold\">       Param # </span>┃\n",
       "┡━━━━━━━━━━━━━━━━━━━━━━━━━━━━━━━━━╇━━━━━━━━━━━━━━━━━━━━━━━━╇━━━━━━━━━━━━━━━┩\n",
       "│ flatten (<span style=\"color: #0087ff; text-decoration-color: #0087ff\">Flatten</span>)               │ (<span style=\"color: #00d7ff; text-decoration-color: #00d7ff\">None</span>, <span style=\"color: #00af00; text-decoration-color: #00af00\">784</span>)            │             <span style=\"color: #00af00; text-decoration-color: #00af00\">0</span> │\n",
       "├─────────────────────────────────┼────────────────────────┼───────────────┤\n",
       "│ dense (<span style=\"color: #0087ff; text-decoration-color: #0087ff\">Dense</span>)                   │ (<span style=\"color: #00d7ff; text-decoration-color: #00d7ff\">None</span>, <span style=\"color: #00af00; text-decoration-color: #00af00\">128</span>)            │       <span style=\"color: #00af00; text-decoration-color: #00af00\">100,480</span> │\n",
       "├─────────────────────────────────┼────────────────────────┼───────────────┤\n",
       "│ dense_1 (<span style=\"color: #0087ff; text-decoration-color: #0087ff\">Dense</span>)                 │ (<span style=\"color: #00d7ff; text-decoration-color: #00d7ff\">None</span>, <span style=\"color: #00af00; text-decoration-color: #00af00\">32</span>)             │         <span style=\"color: #00af00; text-decoration-color: #00af00\">4,128</span> │\n",
       "├─────────────────────────────────┼────────────────────────┼───────────────┤\n",
       "│ dense_2 (<span style=\"color: #0087ff; text-decoration-color: #0087ff\">Dense</span>)                 │ (<span style=\"color: #00d7ff; text-decoration-color: #00d7ff\">None</span>, <span style=\"color: #00af00; text-decoration-color: #00af00\">11</span>)             │           <span style=\"color: #00af00; text-decoration-color: #00af00\">363</span> │\n",
       "└─────────────────────────────────┴────────────────────────┴───────────────┘\n",
       "</pre>\n"
      ]
     },
     "metadata": {},
     "output_type": "display_data"
    },
    {
     "data": {
      "text/plain": [
       "\u001B[1m Total params: \u001B[0m\u001B[38;5;34m104,971\u001B[0m (410.04 KB)\n"
      ],
      "text/html": [
       "<pre style=\"white-space:pre;overflow-x:auto;line-height:normal;font-family:Menlo,'DejaVu Sans Mono',consolas,'Courier New',monospace\"><span style=\"font-weight: bold\"> Total params: </span><span style=\"color: #00af00; text-decoration-color: #00af00\">104,971</span> (410.04 KB)\n",
       "</pre>\n"
      ]
     },
     "metadata": {},
     "output_type": "display_data"
    },
    {
     "data": {
      "text/plain": [
       "\u001B[1m Trainable params: \u001B[0m\u001B[38;5;34m104,971\u001B[0m (410.04 KB)\n"
      ],
      "text/html": [
       "<pre style=\"white-space:pre;overflow-x:auto;line-height:normal;font-family:Menlo,'DejaVu Sans Mono',consolas,'Courier New',monospace\"><span style=\"font-weight: bold\"> Trainable params: </span><span style=\"color: #00af00; text-decoration-color: #00af00\">104,971</span> (410.04 KB)\n",
       "</pre>\n"
      ]
     },
     "metadata": {},
     "output_type": "display_data"
    },
    {
     "data": {
      "text/plain": [
       "\u001B[1m Non-trainable params: \u001B[0m\u001B[38;5;34m0\u001B[0m (0.00 B)\n"
      ],
      "text/html": [
       "<pre style=\"white-space:pre;overflow-x:auto;line-height:normal;font-family:Menlo,'DejaVu Sans Mono',consolas,'Courier New',monospace\"><span style=\"font-weight: bold\"> Non-trainable params: </span><span style=\"color: #00af00; text-decoration-color: #00af00\">0</span> (0.00 B)\n",
       "</pre>\n"
      ]
     },
     "metadata": {},
     "output_type": "display_data"
    }
   ],
   "execution_count": 20
  },
  {
   "metadata": {},
   "cell_type": "code",
   "outputs": [],
   "execution_count": null,
   "source": "",
   "id": "86ffd75ffb43010b"
  }
 ],
 "metadata": {
  "kernelspec": {
   "display_name": "Python 3",
   "language": "python",
   "name": "python3"
  },
  "language_info": {
   "codemirror_mode": {
    "name": "ipython",
    "version": 2
   },
   "file_extension": ".py",
   "mimetype": "text/x-python",
   "name": "python",
   "nbconvert_exporter": "python",
   "pygments_lexer": "ipython2",
   "version": "2.7.6"
  }
 },
 "nbformat": 4,
 "nbformat_minor": 5
}
